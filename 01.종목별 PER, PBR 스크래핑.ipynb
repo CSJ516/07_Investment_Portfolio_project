{
 "cells": [
  {
   "cell_type": "markdown",
   "metadata": {
    "toc": true
   },
   "source": [
    "<h1>Table of Contents<span class=\"tocSkip\"></span></h1>\n",
    "<div class=\"toc\"><ul class=\"toc-item\"><li><span><a href=\"#1.-상장법인-목록-읽기\" data-toc-modified-id=\"1.-상장법인-목록-읽기-1\">1. 상장법인 목록 읽기</a></span></li><li><span><a href=\"#2.-종목코드별-PER,-PBR-스크래핑\" data-toc-modified-id=\"2.-종목코드별-PER,-PBR-스크래핑-2\">2. 종목코드별 PER, PBR 스크래핑</a></span></li></ul></div>"
   ]
  },
  {
   "cell_type": "markdown",
   "metadata": {},
   "source": [
    "# 1. 상장법인 목록 읽기"
   ]
  },
  {
   "cell_type": "markdown",
   "metadata": {},
   "source": [
    "- **전체 종목코드 데이터 수집** : 한국거래소 기업공시채널(kind.krx.co.kr) - 상장법인상세정보 - 상장법인목록 - EXCEL 파일 다운로드"
   ]
  },
  {
   "cell_type": "code",
   "execution_count": 1,
   "metadata": {},
   "outputs": [],
   "source": [
    "import pandas as pd"
   ]
  },
  {
   "cell_type": "code",
   "execution_count": 2,
   "metadata": {},
   "outputs": [
    {
     "data": {
      "text/html": [
       "<div>\n",
       "<style scoped>\n",
       "    .dataframe tbody tr th:only-of-type {\n",
       "        vertical-align: middle;\n",
       "    }\n",
       "\n",
       "    .dataframe tbody tr th {\n",
       "        vertical-align: top;\n",
       "    }\n",
       "\n",
       "    .dataframe thead th {\n",
       "        text-align: right;\n",
       "    }\n",
       "</style>\n",
       "<table border=\"1\" class=\"dataframe\">\n",
       "  <thead>\n",
       "    <tr style=\"text-align: right;\">\n",
       "      <th></th>\n",
       "      <th>회사명</th>\n",
       "      <th>종목코드</th>\n",
       "      <th>업종</th>\n",
       "      <th>주요제품</th>\n",
       "      <th>상장일</th>\n",
       "      <th>결산월</th>\n",
       "      <th>대표자명</th>\n",
       "      <th>홈페이지</th>\n",
       "      <th>지역</th>\n",
       "    </tr>\n",
       "  </thead>\n",
       "  <tbody>\n",
       "    <tr>\n",
       "      <th>2406</th>\n",
       "      <td>CJ대한통운</td>\n",
       "      <td>120</td>\n",
       "      <td>도로 화물 운송업</td>\n",
       "      <td>Contract Logistics, 포워딩, 항만하역, 해운, 택배국제특송, SCM...</td>\n",
       "      <td>1956-07-02</td>\n",
       "      <td>12월</td>\n",
       "      <td>박근희</td>\n",
       "      <td>http://www.cjlogistics.com</td>\n",
       "      <td>서울특별시</td>\n",
       "    </tr>\n",
       "    <tr>\n",
       "      <th>2407</th>\n",
       "      <td>메리츠화재</td>\n",
       "      <td>60</td>\n",
       "      <td>보험업</td>\n",
       "      <td>손해보험(화재,해상,운송보험)</td>\n",
       "      <td>1956-07-02</td>\n",
       "      <td>12월</td>\n",
       "      <td>김용범</td>\n",
       "      <td>http://www.meritzfire.com</td>\n",
       "      <td>서울특별시</td>\n",
       "    </tr>\n",
       "    <tr>\n",
       "      <th>2408</th>\n",
       "      <td>경방</td>\n",
       "      <td>50</td>\n",
       "      <td>종합 소매업</td>\n",
       "      <td>섬유류(면사,면혼방사,면직물,면혼방직물,화섬사,화섬직물) 제조,도매,수출입</td>\n",
       "      <td>1956-03-03</td>\n",
       "      <td>12월</td>\n",
       "      <td>김준, 김담</td>\n",
       "      <td>http://www.kyungbang.co.kr</td>\n",
       "      <td>서울특별시</td>\n",
       "    </tr>\n",
       "    <tr>\n",
       "      <th>2409</th>\n",
       "      <td>유수홀딩스</td>\n",
       "      <td>700</td>\n",
       "      <td>회사 본부 및 경영 컨설팅 서비스업</td>\n",
       "      <td>지주사업</td>\n",
       "      <td>1956-03-03</td>\n",
       "      <td>12월</td>\n",
       "      <td>송영규</td>\n",
       "      <td>http://www.eusu-holdings.com</td>\n",
       "      <td>서울특별시</td>\n",
       "    </tr>\n",
       "    <tr>\n",
       "      <th>2410</th>\n",
       "      <td>한진중공업홀딩스</td>\n",
       "      <td>3480</td>\n",
       "      <td>연료용 가스 제조 및 배관공급업</td>\n",
       "      <td>지주회사</td>\n",
       "      <td>1956-03-03</td>\n",
       "      <td>12월</td>\n",
       "      <td>조남호, 조원국</td>\n",
       "      <td>http://www.hhic-holdings.com</td>\n",
       "      <td>경기도</td>\n",
       "    </tr>\n",
       "  </tbody>\n",
       "</table>\n",
       "</div>"
      ],
      "text/plain": [
       "           회사명  종목코드                   업종  \\\n",
       "2406    CJ대한통운   120            도로 화물 운송업   \n",
       "2407     메리츠화재    60                  보험업   \n",
       "2408        경방    50               종합 소매업   \n",
       "2409     유수홀딩스   700  회사 본부 및 경영 컨설팅 서비스업   \n",
       "2410  한진중공업홀딩스  3480    연료용 가스 제조 및 배관공급업   \n",
       "\n",
       "                                                   주요제품         상장일  결산월  \\\n",
       "2406  Contract Logistics, 포워딩, 항만하역, 해운, 택배국제특송, SCM...  1956-07-02  12월   \n",
       "2407                                   손해보험(화재,해상,운송보험)  1956-07-02  12월   \n",
       "2408          섬유류(면사,면혼방사,면직물,면혼방직물,화섬사,화섬직물) 제조,도매,수출입  1956-03-03  12월   \n",
       "2409                                               지주사업  1956-03-03  12월   \n",
       "2410                                               지주회사  1956-03-03  12월   \n",
       "\n",
       "          대표자명                          홈페이지     지역  \n",
       "2406       박근희    http://www.cjlogistics.com  서울특별시  \n",
       "2407       김용범     http://www.meritzfire.com  서울특별시  \n",
       "2408    김준, 김담    http://www.kyungbang.co.kr  서울특별시  \n",
       "2409       송영규  http://www.eusu-holdings.com  서울특별시  \n",
       "2410  조남호, 조원국  http://www.hhic-holdings.com    경기도  "
      ]
     },
     "execution_count": 2,
     "metadata": {},
     "output_type": "execute_result"
    }
   ],
   "source": [
    "krx_list = pd.read_html('./data/상장법인목록.xls')\n",
    "krx_list[0].tail()"
   ]
  },
  {
   "cell_type": "markdown",
   "metadata": {},
   "source": [
    "종목코드의 앞 자리 0이 모두 사라져 여섯 자리가 아닌 행들이 있으므로, map() 함수를 사용해 이를 보정"
   ]
  },
  {
   "cell_type": "code",
   "execution_count": 3,
   "metadata": {},
   "outputs": [
    {
     "data": {
      "text/html": [
       "<div>\n",
       "<style scoped>\n",
       "    .dataframe tbody tr th:only-of-type {\n",
       "        vertical-align: middle;\n",
       "    }\n",
       "\n",
       "    .dataframe tbody tr th {\n",
       "        vertical-align: top;\n",
       "    }\n",
       "\n",
       "    .dataframe thead th {\n",
       "        text-align: right;\n",
       "    }\n",
       "</style>\n",
       "<table border=\"1\" class=\"dataframe\">\n",
       "  <thead>\n",
       "    <tr style=\"text-align: right;\">\n",
       "      <th></th>\n",
       "      <th>회사명</th>\n",
       "      <th>종목코드</th>\n",
       "      <th>업종</th>\n",
       "      <th>주요제품</th>\n",
       "      <th>상장일</th>\n",
       "      <th>결산월</th>\n",
       "      <th>대표자명</th>\n",
       "      <th>홈페이지</th>\n",
       "      <th>지역</th>\n",
       "    </tr>\n",
       "  </thead>\n",
       "  <tbody>\n",
       "    <tr>\n",
       "      <th>2406</th>\n",
       "      <td>CJ대한통운</td>\n",
       "      <td>000120</td>\n",
       "      <td>도로 화물 운송업</td>\n",
       "      <td>Contract Logistics, 포워딩, 항만하역, 해운, 택배국제특송, SCM...</td>\n",
       "      <td>1956-07-02</td>\n",
       "      <td>12월</td>\n",
       "      <td>박근희</td>\n",
       "      <td>http://www.cjlogistics.com</td>\n",
       "      <td>서울특별시</td>\n",
       "    </tr>\n",
       "    <tr>\n",
       "      <th>2407</th>\n",
       "      <td>메리츠화재</td>\n",
       "      <td>000060</td>\n",
       "      <td>보험업</td>\n",
       "      <td>손해보험(화재,해상,운송보험)</td>\n",
       "      <td>1956-07-02</td>\n",
       "      <td>12월</td>\n",
       "      <td>김용범</td>\n",
       "      <td>http://www.meritzfire.com</td>\n",
       "      <td>서울특별시</td>\n",
       "    </tr>\n",
       "    <tr>\n",
       "      <th>2408</th>\n",
       "      <td>경방</td>\n",
       "      <td>000050</td>\n",
       "      <td>종합 소매업</td>\n",
       "      <td>섬유류(면사,면혼방사,면직물,면혼방직물,화섬사,화섬직물) 제조,도매,수출입</td>\n",
       "      <td>1956-03-03</td>\n",
       "      <td>12월</td>\n",
       "      <td>김준, 김담</td>\n",
       "      <td>http://www.kyungbang.co.kr</td>\n",
       "      <td>서울특별시</td>\n",
       "    </tr>\n",
       "    <tr>\n",
       "      <th>2409</th>\n",
       "      <td>유수홀딩스</td>\n",
       "      <td>000700</td>\n",
       "      <td>회사 본부 및 경영 컨설팅 서비스업</td>\n",
       "      <td>지주사업</td>\n",
       "      <td>1956-03-03</td>\n",
       "      <td>12월</td>\n",
       "      <td>송영규</td>\n",
       "      <td>http://www.eusu-holdings.com</td>\n",
       "      <td>서울특별시</td>\n",
       "    </tr>\n",
       "    <tr>\n",
       "      <th>2410</th>\n",
       "      <td>한진중공업홀딩스</td>\n",
       "      <td>003480</td>\n",
       "      <td>연료용 가스 제조 및 배관공급업</td>\n",
       "      <td>지주회사</td>\n",
       "      <td>1956-03-03</td>\n",
       "      <td>12월</td>\n",
       "      <td>조남호, 조원국</td>\n",
       "      <td>http://www.hhic-holdings.com</td>\n",
       "      <td>경기도</td>\n",
       "    </tr>\n",
       "  </tbody>\n",
       "</table>\n",
       "</div>"
      ],
      "text/plain": [
       "           회사명    종목코드                   업종  \\\n",
       "2406    CJ대한통운  000120            도로 화물 운송업   \n",
       "2407     메리츠화재  000060                  보험업   \n",
       "2408        경방  000050               종합 소매업   \n",
       "2409     유수홀딩스  000700  회사 본부 및 경영 컨설팅 서비스업   \n",
       "2410  한진중공업홀딩스  003480    연료용 가스 제조 및 배관공급업   \n",
       "\n",
       "                                                   주요제품         상장일  결산월  \\\n",
       "2406  Contract Logistics, 포워딩, 항만하역, 해운, 택배국제특송, SCM...  1956-07-02  12월   \n",
       "2407                                   손해보험(화재,해상,운송보험)  1956-07-02  12월   \n",
       "2408          섬유류(면사,면혼방사,면직물,면혼방직물,화섬사,화섬직물) 제조,도매,수출입  1956-03-03  12월   \n",
       "2409                                               지주사업  1956-03-03  12월   \n",
       "2410                                               지주회사  1956-03-03  12월   \n",
       "\n",
       "          대표자명                          홈페이지     지역  \n",
       "2406       박근희    http://www.cjlogistics.com  서울특별시  \n",
       "2407       김용범     http://www.meritzfire.com  서울특별시  \n",
       "2408    김준, 김담    http://www.kyungbang.co.kr  서울특별시  \n",
       "2409       송영규  http://www.eusu-holdings.com  서울특별시  \n",
       "2410  조남호, 조원국  http://www.hhic-holdings.com    경기도  "
      ]
     },
     "execution_count": 3,
     "metadata": {},
     "output_type": "execute_result"
    }
   ],
   "source": [
    "krx_list[0].종목코드 = krx_list[0].종목코드.map('{:06d}'.format)\n",
    "krx_list[0].tail()"
   ]
  },
  {
   "cell_type": "markdown",
   "metadata": {},
   "source": [
    "# 2. 종목코드별 PER, PBR 스크래핑"
   ]
  },
  {
   "cell_type": "markdown",
   "metadata": {},
   "source": [
    "- **Company Guide**(https://comp.fnguide.com/SVO2/ASP/SVD_Main.asp?pGB=1&gicode=A종목코드&cID=&MenuYn=Y&ReportGB=&NewMenuID=11&stkGb=701) 사이트에서 **PER, PBR 데이터 수집**"
   ]
  },
  {
   "cell_type": "code",
   "execution_count": 4,
   "metadata": {},
   "outputs": [],
   "source": [
    "from tqdm import tqdm\n",
    "from bs4 import BeautifulSoup\n",
    "import requests\n",
    "import re"
   ]
  },
  {
   "cell_type": "code",
   "execution_count": 11,
   "metadata": {},
   "outputs": [],
   "source": [
    "# for code in tqdm(krx_list[0].종목코드):\n",
    "#     cg_url = f'https://comp.fnguide.com/SVO2/ASP/SVD_Main.asp?pGB=1&gicode=A{code}&cID=&MenuYn=Y&ReportGB=&NewMenuID=11&stkGb=701'\n",
    "\n",
    "#     html = BeautifulSoup(requests.get(cg_url, headers={'User-agent': 'Mozilla/5.0'}).text, \"lxml\")\n",
    "#     stxt1 = re.sub('\\xa0', ' ', html.find(\"span\", class_=\"stxt stxt1\").text)\n",
    "#     stxt2 = re.sub('\\xa0', ' ', html.find(\"span\", class_=\"stxt stxt2\").text)\n",
    "#     corp_group = html.find(\"div\", class_=\"corp_group2\")\n",
    "#     PER = corp_group.find_all('dd')[1].text\n",
    "#     업종PER = corp_group.find_all('dd')[5].text\n",
    "#     PBR = corp_group.find_all('dd')[7].text"
   ]
  },
  {
   "cell_type": "markdown",
   "metadata": {},
   "source": [
    "-  결측치가 많은 관계로 **네이버 금융(https://finance.naver.com/item/main.nhn?code=종목코드) 에서 추가로 수집**"
   ]
  },
  {
   "cell_type": "code",
   "execution_count": 10,
   "metadata": {},
   "outputs": [
    {
     "name": "stderr",
     "output_type": "stream",
     "text": [
      "100%|██████████████████████████████████████████████████████████████████████████████| 2411/2411 [15:10<00:00,  2.65it/s]\n"
     ]
    }
   ],
   "source": [
    "data = []\n",
    "\n",
    "for code in tqdm(krx_list[0].종목코드):\n",
    "    n_url = f'https://finance.naver.com/item/main.nhn?code={code}'\n",
    "    html = BeautifulSoup(requests.get(n_url, headers={'User-agent': 'Mozilla/5.0'}).text, \"lxml\")\n",
    "    \n",
    "    # 업종명 수집\n",
    "    try:\n",
    "        group = html.find('h4', class_='h_sub sub_tit7')\n",
    "        업종 = group.find('a').text\n",
    "    except:\n",
    "        업종 = 'N/A'\n",
    "        \n",
    "    # PER, PBR 수집\n",
    "    try:\n",
    "        per = html.find('em', id='_per').text\n",
    "        pbr = html.find('em', id='_pbr').text\n",
    "    except:\n",
    "        per, pbr = 'N/A', 'N/A'\n",
    "        \n",
    "    # 동일업종 PER 수집\n",
    "    try:\n",
    "        table = html.find('table', summary='동일업종 PER 정보')\n",
    "        업종per = table.find('em').text\n",
    "    except:\n",
    "        업종per = 'N/A'\n",
    "    \n",
    "    # data 리스트에 데이터 추가\n",
    "    data.append([업종, 업종per, per, pbr])\n",
    "    \n",
    "df = pd.DataFrame(data)\n",
    "df.columns = ['업종2', '업종PER', 'PER', 'PBR']"
   ]
  },
  {
   "cell_type": "code",
   "execution_count": 15,
   "metadata": {},
   "outputs": [
    {
     "data": {
      "text/html": [
       "<div>\n",
       "<style scoped>\n",
       "    .dataframe tbody tr th:only-of-type {\n",
       "        vertical-align: middle;\n",
       "    }\n",
       "\n",
       "    .dataframe tbody tr th {\n",
       "        vertical-align: top;\n",
       "    }\n",
       "\n",
       "    .dataframe thead th {\n",
       "        text-align: right;\n",
       "    }\n",
       "</style>\n",
       "<table border=\"1\" class=\"dataframe\">\n",
       "  <thead>\n",
       "    <tr style=\"text-align: right;\">\n",
       "      <th></th>\n",
       "      <th>회사명</th>\n",
       "      <th>종목코드</th>\n",
       "      <th>업종</th>\n",
       "      <th>업종2</th>\n",
       "      <th>업종PER</th>\n",
       "      <th>PER</th>\n",
       "      <th>PBR</th>\n",
       "    </tr>\n",
       "  </thead>\n",
       "  <tbody>\n",
       "    <tr>\n",
       "      <th>2406</th>\n",
       "      <td>CJ대한통운</td>\n",
       "      <td>000120</td>\n",
       "      <td>도로 화물 운송업</td>\n",
       "      <td>항공화물운송과물류</td>\n",
       "      <td>12.60</td>\n",
       "      <td>31.28</td>\n",
       "      <td>1.02</td>\n",
       "    </tr>\n",
       "    <tr>\n",
       "      <th>2407</th>\n",
       "      <td>메리츠화재</td>\n",
       "      <td>000060</td>\n",
       "      <td>보험업</td>\n",
       "      <td>손해보험</td>\n",
       "      <td>6.87</td>\n",
       "      <td>4.41</td>\n",
       "      <td>0.61</td>\n",
       "    </tr>\n",
       "    <tr>\n",
       "      <th>2408</th>\n",
       "      <td>경방</td>\n",
       "      <td>000050</td>\n",
       "      <td>종합 소매업</td>\n",
       "      <td>섬유,의류,신발,호화품</td>\n",
       "      <td>33.35</td>\n",
       "      <td>7.49</td>\n",
       "      <td>0.43</td>\n",
       "    </tr>\n",
       "    <tr>\n",
       "      <th>2409</th>\n",
       "      <td>유수홀딩스</td>\n",
       "      <td>000700</td>\n",
       "      <td>회사 본부 및 경영 컨설팅 서비스업</td>\n",
       "      <td>항공화물운송과물류</td>\n",
       "      <td>12.60</td>\n",
       "      <td>18.92</td>\n",
       "      <td>0.62</td>\n",
       "    </tr>\n",
       "    <tr>\n",
       "      <th>2410</th>\n",
       "      <td>한진중공업홀딩스</td>\n",
       "      <td>003480</td>\n",
       "      <td>연료용 가스 제조 및 배관공급업</td>\n",
       "      <td>가스유틸리티</td>\n",
       "      <td>19.09</td>\n",
       "      <td>52.24</td>\n",
       "      <td>0.31</td>\n",
       "    </tr>\n",
       "  </tbody>\n",
       "</table>\n",
       "</div>"
      ],
      "text/plain": [
       "           회사명    종목코드                   업종           업종2  업종PER    PER   PBR\n",
       "2406    CJ대한통운  000120            도로 화물 운송업     항공화물운송과물류  12.60  31.28  1.02\n",
       "2407     메리츠화재  000060                  보험업          손해보험   6.87   4.41  0.61\n",
       "2408        경방  000050               종합 소매업  섬유,의류,신발,호화품  33.35   7.49  0.43\n",
       "2409     유수홀딩스  000700  회사 본부 및 경영 컨설팅 서비스업     항공화물운송과물류  12.60  18.92  0.62\n",
       "2410  한진중공업홀딩스  003480    연료용 가스 제조 및 배관공급업        가스유틸리티  19.09  52.24  0.31"
      ]
     },
     "execution_count": 15,
     "metadata": {},
     "output_type": "execute_result"
    }
   ],
   "source": [
    "krx_df = krx_list[0][['회사명', '종목코드', '업종']]\n",
    "\n",
    "result = pd.concat([krx_df, df], axis=1)\n",
    "result.tail()"
   ]
  },
  {
   "cell_type": "code",
   "execution_count": 16,
   "metadata": {},
   "outputs": [],
   "source": [
    "result.to_csv('./data/네이버금융_PER,PBR.csv', index=False)"
   ]
  },
  {
   "cell_type": "code",
   "execution_count": null,
   "metadata": {},
   "outputs": [],
   "source": []
  }
 ],
 "metadata": {
  "kernelspec": {
   "display_name": "Python 3",
   "language": "python",
   "name": "python3"
  },
  "language_info": {
   "codemirror_mode": {
    "name": "ipython",
    "version": 3
   },
   "file_extension": ".py",
   "mimetype": "text/x-python",
   "name": "python",
   "nbconvert_exporter": "python",
   "pygments_lexer": "ipython3",
   "version": "3.8.3"
  },
  "toc": {
   "base_numbering": 1,
   "nav_menu": {},
   "number_sections": false,
   "sideBar": false,
   "skip_h1_title": false,
   "title_cell": "Table of Contents",
   "title_sidebar": "Contents",
   "toc_cell": true,
   "toc_position": {},
   "toc_section_display": true,
   "toc_window_display": false
  }
 },
 "nbformat": 4,
 "nbformat_minor": 4
}
