{
 "cells": [
  {
   "cell_type": "markdown",
   "metadata": {
    "toc": true
   },
   "source": [
    "<h1>Table of Contents<span class=\"tocSkip\"></span></h1>\n",
    "<div class=\"toc\"><ul class=\"toc-item\"><li><span><a href=\"#1.-데이터-확인\" data-toc-modified-id=\"1.-데이터-확인-1\">1. 데이터 확인</a></span></li><li><span><a href=\"#2.-데이터-병합\" data-toc-modified-id=\"2.-데이터-병합-2\">2. 데이터 병합</a></span></li></ul></div>"
   ]
  },
  {
   "cell_type": "markdown",
   "metadata": {},
   "source": [
    "# 1. 데이터 확인"
   ]
  },
  {
   "cell_type": "code",
   "execution_count": 2,
   "metadata": {},
   "outputs": [],
   "source": [
    "import numpy as np\n",
    "import pandas as pd"
   ]
  },
  {
   "cell_type": "code",
   "execution_count": 3,
   "metadata": {},
   "outputs": [
    {
     "data": {
      "text/html": [
       "<div>\n",
       "<style scoped>\n",
       "    .dataframe tbody tr th:only-of-type {\n",
       "        vertical-align: middle;\n",
       "    }\n",
       "\n",
       "    .dataframe tbody tr th {\n",
       "        vertical-align: top;\n",
       "    }\n",
       "\n",
       "    .dataframe thead th {\n",
       "        text-align: right;\n",
       "    }\n",
       "</style>\n",
       "<table border=\"1\" class=\"dataframe\">\n",
       "  <thead>\n",
       "    <tr style=\"text-align: right;\">\n",
       "      <th></th>\n",
       "      <th>회사명</th>\n",
       "      <th>종목코드</th>\n",
       "      <th>업종</th>\n",
       "      <th>업종1</th>\n",
       "      <th>업종2</th>\n",
       "      <th>PER</th>\n",
       "      <th>업종PER</th>\n",
       "      <th>PBR</th>\n",
       "    </tr>\n",
       "  </thead>\n",
       "  <tbody>\n",
       "    <tr>\n",
       "      <th>0</th>\n",
       "      <td>나우코스</td>\n",
       "      <td>257990</td>\n",
       "      <td>기타 화학제품 제조업</td>\n",
       "      <td>KONEX</td>\n",
       "      <td>FICS  개인생활용품</td>\n",
       "      <td>29.21</td>\n",
       "      <td>NaN</td>\n",
       "      <td>6.43</td>\n",
       "    </tr>\n",
       "    <tr>\n",
       "      <th>1</th>\n",
       "      <td>에이스캠퍼</td>\n",
       "      <td>322190</td>\n",
       "      <td>자동차 차체 및 트레일러 제조업</td>\n",
       "      <td>KONEX</td>\n",
       "      <td>FICS  기계</td>\n",
       "      <td>NaN</td>\n",
       "      <td>NaN</td>\n",
       "      <td>19.07</td>\n",
       "    </tr>\n",
       "    <tr>\n",
       "      <th>2</th>\n",
       "      <td>유안타제7호스팩</td>\n",
       "      <td>367460</td>\n",
       "      <td>금융 지원 서비스업</td>\n",
       "      <td>KOSDAQ  코스닥 금융</td>\n",
       "      <td>FICS  창업투자 및 종금</td>\n",
       "      <td>NaN</td>\n",
       "      <td>22.62</td>\n",
       "      <td>NaN</td>\n",
       "    </tr>\n",
       "    <tr>\n",
       "      <th>3</th>\n",
       "      <td>루트락</td>\n",
       "      <td>253610</td>\n",
       "      <td>기타 전문 도매업</td>\n",
       "      <td>KONEX</td>\n",
       "      <td>FICS  의료 장비 및 서비스</td>\n",
       "      <td>NaN</td>\n",
       "      <td>NaN</td>\n",
       "      <td>NaN</td>\n",
       "    </tr>\n",
       "    <tr>\n",
       "      <th>4</th>\n",
       "      <td>ESR켄달스퀘어리츠</td>\n",
       "      <td>365550</td>\n",
       "      <td>부동산 임대 및 공급업</td>\n",
       "      <td>KSE  코스피 서비스업</td>\n",
       "      <td>FICS  부동산</td>\n",
       "      <td>NaN</td>\n",
       "      <td>35.79</td>\n",
       "      <td>NaN</td>\n",
       "    </tr>\n",
       "  </tbody>\n",
       "</table>\n",
       "</div>"
      ],
      "text/plain": [
       "          회사명    종목코드                 업종             업종1                업종2  \\\n",
       "0        나우코스  257990        기타 화학제품 제조업           KONEX       FICS  개인생활용품   \n",
       "1       에이스캠퍼  322190  자동차 차체 및 트레일러 제조업           KONEX           FICS  기계   \n",
       "2    유안타제7호스팩  367460         금융 지원 서비스업  KOSDAQ  코스닥 금융    FICS  창업투자 및 종금   \n",
       "3         루트락  253610          기타 전문 도매업           KONEX  FICS  의료 장비 및 서비스   \n",
       "4  ESR켄달스퀘어리츠  365550       부동산 임대 및 공급업   KSE  코스피 서비스업          FICS  부동산   \n",
       "\n",
       "     PER  업종PER    PBR  \n",
       "0  29.21    NaN   6.43  \n",
       "1    NaN    NaN  19.07  \n",
       "2    NaN  22.62    NaN  \n",
       "3    NaN    NaN    NaN  \n",
       "4    NaN  35.79    NaN  "
      ]
     },
     "execution_count": 3,
     "metadata": {},
     "output_type": "execute_result"
    }
   ],
   "source": [
    "# Company Guide 데이터\n",
    "data = pd.read_csv('./data/FnGuide_PER,PBR.csv')\n",
    "data.replace('-', np.nan, inplace=True)\n",
    "data.head()"
   ]
  },
  {
   "cell_type": "code",
   "execution_count": 11,
   "metadata": {},
   "outputs": [
    {
     "data": {
      "text/plain": [
       "특수 목적용 기계 제조업        141\n",
       "소프트웨어 개발 및 공급업       135\n",
       "전자부품 제조업             121\n",
       "자동차 신품 부품 제조업         97\n",
       "기타 금융업                93\n",
       "                    ... \n",
       "기타 비금속광물 광업            1\n",
       "편조원단 제조업               1\n",
       "신발 및 신발 부분품 제조업        1\n",
       "석탄 광업                  1\n",
       "자동차 차체 및 트레일러 제조업      1\n",
       "Name: 업종, Length: 158, dtype: int64"
      ]
     },
     "execution_count": 11,
     "metadata": {},
     "output_type": "execute_result"
    }
   ],
   "source": [
    "data['업종'].value_counts()"
   ]
  },
  {
   "cell_type": "code",
   "execution_count": 30,
   "metadata": {},
   "outputs": [
    {
     "data": {
      "text/plain": [
       "905"
      ]
     },
     "execution_count": 30,
     "metadata": {},
     "output_type": "execute_result"
    }
   ],
   "source": [
    "len(data[data['PER'].isnull()])"
   ]
  },
  {
   "cell_type": "code",
   "execution_count": 31,
   "metadata": {},
   "outputs": [
    {
     "data": {
      "text/plain": [
       "74"
      ]
     },
     "execution_count": 31,
     "metadata": {},
     "output_type": "execute_result"
    }
   ],
   "source": [
    "len(data[data['PBR'].isnull()])"
   ]
  },
  {
   "cell_type": "code",
   "execution_count": 32,
   "metadata": {},
   "outputs": [
    {
     "data": {
      "text/html": [
       "<div>\n",
       "<style scoped>\n",
       "    .dataframe tbody tr th:only-of-type {\n",
       "        vertical-align: middle;\n",
       "    }\n",
       "\n",
       "    .dataframe tbody tr th {\n",
       "        vertical-align: top;\n",
       "    }\n",
       "\n",
       "    .dataframe thead th {\n",
       "        text-align: right;\n",
       "    }\n",
       "</style>\n",
       "<table border=\"1\" class=\"dataframe\">\n",
       "  <thead>\n",
       "    <tr style=\"text-align: right;\">\n",
       "      <th></th>\n",
       "      <th>회사명</th>\n",
       "      <th>종목코드</th>\n",
       "      <th>업종</th>\n",
       "      <th>업종2</th>\n",
       "      <th>업종PER</th>\n",
       "      <th>PER</th>\n",
       "      <th>PBR</th>\n",
       "    </tr>\n",
       "  </thead>\n",
       "  <tbody>\n",
       "    <tr>\n",
       "      <th>0</th>\n",
       "      <td>나우코스</td>\n",
       "      <td>257990</td>\n",
       "      <td>기타 화학제품 제조업</td>\n",
       "      <td>NaN</td>\n",
       "      <td>NaN</td>\n",
       "      <td>NaN</td>\n",
       "      <td>NaN</td>\n",
       "    </tr>\n",
       "    <tr>\n",
       "      <th>1</th>\n",
       "      <td>에이스캠퍼</td>\n",
       "      <td>322190</td>\n",
       "      <td>자동차 차체 및 트레일러 제조업</td>\n",
       "      <td>NaN</td>\n",
       "      <td>NaN</td>\n",
       "      <td>NaN</td>\n",
       "      <td>NaN</td>\n",
       "    </tr>\n",
       "    <tr>\n",
       "      <th>2</th>\n",
       "      <td>유안타제7호스팩</td>\n",
       "      <td>367460</td>\n",
       "      <td>금융 지원 서비스업</td>\n",
       "      <td>창업투자</td>\n",
       "      <td>20.78</td>\n",
       "      <td>NaN</td>\n",
       "      <td>NaN</td>\n",
       "    </tr>\n",
       "    <tr>\n",
       "      <th>3</th>\n",
       "      <td>루트락</td>\n",
       "      <td>253610</td>\n",
       "      <td>기타 전문 도매업</td>\n",
       "      <td>NaN</td>\n",
       "      <td>NaN</td>\n",
       "      <td>NaN</td>\n",
       "      <td>NaN</td>\n",
       "    </tr>\n",
       "    <tr>\n",
       "      <th>4</th>\n",
       "      <td>ESR켄달스퀘어리츠</td>\n",
       "      <td>365550</td>\n",
       "      <td>부동산 임대 및 공급업</td>\n",
       "      <td>NaN</td>\n",
       "      <td>NaN</td>\n",
       "      <td>NaN</td>\n",
       "      <td>NaN</td>\n",
       "    </tr>\n",
       "  </tbody>\n",
       "</table>\n",
       "</div>"
      ],
      "text/plain": [
       "          회사명    종목코드                 업종   업종2  업종PER  PER  PBR\n",
       "0        나우코스  257990        기타 화학제품 제조업   NaN    NaN  NaN  NaN\n",
       "1       에이스캠퍼  322190  자동차 차체 및 트레일러 제조업   NaN    NaN  NaN  NaN\n",
       "2    유안타제7호스팩  367460         금융 지원 서비스업  창업투자  20.78  NaN  NaN\n",
       "3         루트락  253610          기타 전문 도매업   NaN    NaN  NaN  NaN\n",
       "4  ESR켄달스퀘어리츠  365550       부동산 임대 및 공급업   NaN    NaN  NaN  NaN"
      ]
     },
     "execution_count": 32,
     "metadata": {},
     "output_type": "execute_result"
    }
   ],
   "source": [
    "# 네이버금융 데이터\n",
    "data2 = pd.read_csv('./data/네이버금융_PER,PBR.csv')\n",
    "data2.head()"
   ]
  },
  {
   "cell_type": "code",
   "execution_count": 33,
   "metadata": {
    "scrolled": true
   },
   "outputs": [
    {
     "data": {
      "text/plain": [
       "array([nan, '창업투자', '기타', '화학', '제약', '생명과학도구및서비스', '소프트웨어', 'IT서비스',\n",
       "       '반도체와반도체장비', '자동차부품', '생물공학', '전자장비와기기', '컴퓨터와주변기기', '화장품', '전기장비',\n",
       "       '손해보험', '건강관리장비와용품', '식품', '디스플레이장비및부품', '방송과엔터테인먼트', '기계', '건설',\n",
       "       '가정용품', '게임엔터테인먼트', '섬유,의류,신발,호화품', '핸드셋', '광고', '우주항공과국방',\n",
       "       '에너지장비및서비스', '건축자재', '건강관리기술', '통신장비', '교육서비스', '건강관리업체및서비스',\n",
       "       '해운사', '인터넷과카탈로그소매', '증권', '가구', '양방향미디어와서비스', '가정용기기와용품', '전기제품',\n",
       "       '식품과기본식료품소매', '비철금속', '포장재', '은행', '호텔,레스토랑,레저', '항공사', '철강',\n",
       "       '전자제품', '백화점과일반상점', '판매업체', '출판', '가스유틸리티', '석유와가스', '레저용장비와제품',\n",
       "       '부동산', '조선', '도로와철도운송', '음료', '생명보험', '종이와목재', '복합기업', '기타금융',\n",
       "       '건축제품', '상업서비스와공급품', '복합유틸리티', '항공화물운송과물류', '전문소매', '디스플레이패널',\n",
       "       '전기유틸리티', '자동차', '무선통신서비스', '카드', '문구류', '운송인프라', '독립전력생산및에너지거래',\n",
       "       '무역회사와판매업체', '다각화된통신서비스', '담배', '사무용전자제품'], dtype=object)"
      ]
     },
     "execution_count": 33,
     "metadata": {},
     "output_type": "execute_result"
    }
   ],
   "source": [
    "data2['업종2'].unique()"
   ]
  },
  {
   "cell_type": "code",
   "execution_count": 34,
   "metadata": {},
   "outputs": [
    {
     "data": {
      "text/plain": [
       "167"
      ]
     },
     "execution_count": 34,
     "metadata": {},
     "output_type": "execute_result"
    }
   ],
   "source": [
    "len(data2[data2['업종2'].isnull()])"
   ]
  },
  {
   "cell_type": "code",
   "execution_count": 35,
   "metadata": {},
   "outputs": [
    {
     "data": {
      "text/plain": [
       "1070"
      ]
     },
     "execution_count": 35,
     "metadata": {},
     "output_type": "execute_result"
    }
   ],
   "source": [
    "len(data2[data2['PER'].isnull()])"
   ]
  },
  {
   "cell_type": "markdown",
   "metadata": {},
   "source": [
    "# 2. 데이터 병합"
   ]
  },
  {
   "cell_type": "markdown",
   "metadata": {},
   "source": [
    "네이버금융 데이터의 결측치가 더 많기는 하지만, Company Guide 데이터는 2019년 12월 기준으로 최신성을 반영하지 못함\n",
    "\n",
    "따라서 **네이버금융 데이터에 Company Guide 데이터를 병합하여 결측치를 보완**해보고자 함"
   ]
  },
  {
   "cell_type": "code",
   "execution_count": 42,
   "metadata": {},
   "outputs": [],
   "source": [
    "naver_idx = data2[data2['PER'].isnull()].index\n",
    "fnguide_idx = data[data['PER'].isnull()].index"
   ]
  },
  {
   "cell_type": "code",
   "execution_count": null,
   "metadata": {},
   "outputs": [],
   "source": []
  }
 ],
 "metadata": {
  "kernelspec": {
   "display_name": "Python 3",
   "language": "python",
   "name": "python3"
  },
  "language_info": {
   "codemirror_mode": {
    "name": "ipython",
    "version": 3
   },
   "file_extension": ".py",
   "mimetype": "text/x-python",
   "name": "python",
   "nbconvert_exporter": "python",
   "pygments_lexer": "ipython3",
   "version": "3.8.3"
  },
  "toc": {
   "base_numbering": 1,
   "nav_menu": {},
   "number_sections": false,
   "sideBar": false,
   "skip_h1_title": false,
   "title_cell": "Table of Contents",
   "title_sidebar": "Contents",
   "toc_cell": true,
   "toc_position": {},
   "toc_section_display": true,
   "toc_window_display": false
  }
 },
 "nbformat": 4,
 "nbformat_minor": 4
}
