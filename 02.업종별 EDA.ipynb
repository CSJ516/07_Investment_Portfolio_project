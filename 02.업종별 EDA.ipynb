{
 "cells": [
  {
   "cell_type": "markdown",
   "metadata": {
    "toc": true
   },
   "source": [
    "<h1>Table of Contents<span class=\"tocSkip\"></span></h1>\n",
    "<div class=\"toc\"><ul class=\"toc-item\"><li><span><a href=\"#1.-데이터-확인\" data-toc-modified-id=\"1.-데이터-확인-1\">1. 데이터 확인</a></span></li><li><span><a href=\"#2.-데이터-보완\" data-toc-modified-id=\"2.-데이터-보완-2\">2. 데이터 보완</a></span></li><li><span><a href=\"#3.-EDA\" data-toc-modified-id=\"3.-EDA-3\">3. EDA</a></span><ul class=\"toc-item\"><li><span><a href=\"#3.1-업종별-회사-수\" data-toc-modified-id=\"3.1-업종별-회사-수-3.1\">3.1 업종별 회사 수</a></span></li><li><span><a href=\"#3.2-업종별-업종PER\" data-toc-modified-id=\"3.2-업종별-업종PER-3.2\">3.2 업종별 업종PER</a></span></li></ul></li><li><span><a href=\"#4.-저평가-된-기업-찾기\" data-toc-modified-id=\"4.-저평가-된-기업-찾기-4\">4. 저평가 된 기업 찾기</a></span></li></ul></div>"
   ]
  },
  {
   "cell_type": "markdown",
   "metadata": {},
   "source": [
    "# 1. 데이터 확인"
   ]
  },
  {
   "cell_type": "code",
   "execution_count": 1,
   "metadata": {},
   "outputs": [],
   "source": [
    "import numpy as np\n",
    "import pandas as pd"
   ]
  },
  {
   "cell_type": "code",
   "execution_count": 2,
   "metadata": {},
   "outputs": [
    {
     "data": {
      "text/html": [
       "<div>\n",
       "<style scoped>\n",
       "    .dataframe tbody tr th:only-of-type {\n",
       "        vertical-align: middle;\n",
       "    }\n",
       "\n",
       "    .dataframe tbody tr th {\n",
       "        vertical-align: top;\n",
       "    }\n",
       "\n",
       "    .dataframe thead th {\n",
       "        text-align: right;\n",
       "    }\n",
       "</style>\n",
       "<table border=\"1\" class=\"dataframe\">\n",
       "  <thead>\n",
       "    <tr style=\"text-align: right;\">\n",
       "      <th></th>\n",
       "      <th>회사명</th>\n",
       "      <th>종목코드</th>\n",
       "      <th>업종</th>\n",
       "      <th>업종1</th>\n",
       "      <th>업종2</th>\n",
       "      <th>PER</th>\n",
       "      <th>업종PER</th>\n",
       "      <th>PBR</th>\n",
       "    </tr>\n",
       "  </thead>\n",
       "  <tbody>\n",
       "    <tr>\n",
       "      <th>0</th>\n",
       "      <td>나우코스</td>\n",
       "      <td>257990</td>\n",
       "      <td>기타 화학제품 제조업</td>\n",
       "      <td>KONEX</td>\n",
       "      <td>FICS  개인생활용품</td>\n",
       "      <td>29.21</td>\n",
       "      <td>NaN</td>\n",
       "      <td>6.43</td>\n",
       "    </tr>\n",
       "    <tr>\n",
       "      <th>1</th>\n",
       "      <td>에이스캠퍼</td>\n",
       "      <td>322190</td>\n",
       "      <td>자동차 차체 및 트레일러 제조업</td>\n",
       "      <td>KONEX</td>\n",
       "      <td>FICS  기계</td>\n",
       "      <td>NaN</td>\n",
       "      <td>NaN</td>\n",
       "      <td>19.07</td>\n",
       "    </tr>\n",
       "    <tr>\n",
       "      <th>2</th>\n",
       "      <td>유안타제7호스팩</td>\n",
       "      <td>367460</td>\n",
       "      <td>금융 지원 서비스업</td>\n",
       "      <td>KOSDAQ  코스닥 금융</td>\n",
       "      <td>FICS  창업투자 및 종금</td>\n",
       "      <td>NaN</td>\n",
       "      <td>22.62</td>\n",
       "      <td>NaN</td>\n",
       "    </tr>\n",
       "    <tr>\n",
       "      <th>3</th>\n",
       "      <td>루트락</td>\n",
       "      <td>253610</td>\n",
       "      <td>기타 전문 도매업</td>\n",
       "      <td>KONEX</td>\n",
       "      <td>FICS  의료 장비 및 서비스</td>\n",
       "      <td>NaN</td>\n",
       "      <td>NaN</td>\n",
       "      <td>NaN</td>\n",
       "    </tr>\n",
       "    <tr>\n",
       "      <th>4</th>\n",
       "      <td>ESR켄달스퀘어리츠</td>\n",
       "      <td>365550</td>\n",
       "      <td>부동산 임대 및 공급업</td>\n",
       "      <td>KSE  코스피 서비스업</td>\n",
       "      <td>FICS  부동산</td>\n",
       "      <td>NaN</td>\n",
       "      <td>35.79</td>\n",
       "      <td>NaN</td>\n",
       "    </tr>\n",
       "  </tbody>\n",
       "</table>\n",
       "</div>"
      ],
      "text/plain": [
       "          회사명    종목코드                 업종             업종1                업종2  \\\n",
       "0        나우코스  257990        기타 화학제품 제조업           KONEX       FICS  개인생활용품   \n",
       "1       에이스캠퍼  322190  자동차 차체 및 트레일러 제조업           KONEX           FICS  기계   \n",
       "2    유안타제7호스팩  367460         금융 지원 서비스업  KOSDAQ  코스닥 금융    FICS  창업투자 및 종금   \n",
       "3         루트락  253610          기타 전문 도매업           KONEX  FICS  의료 장비 및 서비스   \n",
       "4  ESR켄달스퀘어리츠  365550       부동산 임대 및 공급업   KSE  코스피 서비스업          FICS  부동산   \n",
       "\n",
       "     PER  업종PER    PBR  \n",
       "0  29.21    NaN   6.43  \n",
       "1    NaN    NaN  19.07  \n",
       "2    NaN  22.62    NaN  \n",
       "3    NaN    NaN    NaN  \n",
       "4    NaN  35.79    NaN  "
      ]
     },
     "execution_count": 2,
     "metadata": {},
     "output_type": "execute_result"
    }
   ],
   "source": [
    "# Company Guide 데이터\n",
    "data = pd.read_csv('./data/FnGuide_PER,PBR.csv')\n",
    "data.replace('-', np.nan, inplace=True)\n",
    "data.head()"
   ]
  },
  {
   "cell_type": "code",
   "execution_count": 3,
   "metadata": {},
   "outputs": [
    {
     "data": {
      "text/plain": [
       "특수 목적용 기계 제조업            141\n",
       "소프트웨어 개발 및 공급업           135\n",
       "전자부품 제조업                 121\n",
       "자동차 신품 부품 제조업             97\n",
       "의약품 제조업                   93\n",
       "                        ... \n",
       "자동차 차체 및 트레일러 제조업          1\n",
       "재 보험업                      1\n",
       "섬유제품 염색, 정리 및 마무리 가공업      1\n",
       "개인 및 가정용품 임대업              1\n",
       "귀금속 및 장신용품 제조업             1\n",
       "Name: 업종, Length: 158, dtype: int64"
      ]
     },
     "execution_count": 3,
     "metadata": {},
     "output_type": "execute_result"
    }
   ],
   "source": [
    "data['업종'].value_counts()"
   ]
  },
  {
   "cell_type": "code",
   "execution_count": 4,
   "metadata": {},
   "outputs": [
    {
     "data": {
      "text/plain": [
       "905"
      ]
     },
     "execution_count": 4,
     "metadata": {},
     "output_type": "execute_result"
    }
   ],
   "source": [
    "len(data[data['PER'].isnull()])"
   ]
  },
  {
   "cell_type": "code",
   "execution_count": 5,
   "metadata": {},
   "outputs": [
    {
     "data": {
      "text/plain": [
       "74"
      ]
     },
     "execution_count": 5,
     "metadata": {},
     "output_type": "execute_result"
    }
   ],
   "source": [
    "len(data[data['PBR'].isnull()])"
   ]
  },
  {
   "cell_type": "code",
   "execution_count": 6,
   "metadata": {},
   "outputs": [
    {
     "data": {
      "text/html": [
       "<div>\n",
       "<style scoped>\n",
       "    .dataframe tbody tr th:only-of-type {\n",
       "        vertical-align: middle;\n",
       "    }\n",
       "\n",
       "    .dataframe tbody tr th {\n",
       "        vertical-align: top;\n",
       "    }\n",
       "\n",
       "    .dataframe thead th {\n",
       "        text-align: right;\n",
       "    }\n",
       "</style>\n",
       "<table border=\"1\" class=\"dataframe\">\n",
       "  <thead>\n",
       "    <tr style=\"text-align: right;\">\n",
       "      <th></th>\n",
       "      <th>회사명</th>\n",
       "      <th>종목코드</th>\n",
       "      <th>업종</th>\n",
       "      <th>업종2</th>\n",
       "      <th>업종PER</th>\n",
       "      <th>PER</th>\n",
       "      <th>PBR</th>\n",
       "    </tr>\n",
       "  </thead>\n",
       "  <tbody>\n",
       "    <tr>\n",
       "      <th>0</th>\n",
       "      <td>나우코스</td>\n",
       "      <td>257990</td>\n",
       "      <td>기타 화학제품 제조업</td>\n",
       "      <td>NaN</td>\n",
       "      <td>NaN</td>\n",
       "      <td>NaN</td>\n",
       "      <td>NaN</td>\n",
       "    </tr>\n",
       "    <tr>\n",
       "      <th>1</th>\n",
       "      <td>에이스캠퍼</td>\n",
       "      <td>322190</td>\n",
       "      <td>자동차 차체 및 트레일러 제조업</td>\n",
       "      <td>NaN</td>\n",
       "      <td>NaN</td>\n",
       "      <td>NaN</td>\n",
       "      <td>NaN</td>\n",
       "    </tr>\n",
       "    <tr>\n",
       "      <th>2</th>\n",
       "      <td>유안타제7호스팩</td>\n",
       "      <td>367460</td>\n",
       "      <td>금융 지원 서비스업</td>\n",
       "      <td>창업투자</td>\n",
       "      <td>20.78</td>\n",
       "      <td>NaN</td>\n",
       "      <td>NaN</td>\n",
       "    </tr>\n",
       "    <tr>\n",
       "      <th>3</th>\n",
       "      <td>루트락</td>\n",
       "      <td>253610</td>\n",
       "      <td>기타 전문 도매업</td>\n",
       "      <td>NaN</td>\n",
       "      <td>NaN</td>\n",
       "      <td>NaN</td>\n",
       "      <td>NaN</td>\n",
       "    </tr>\n",
       "    <tr>\n",
       "      <th>4</th>\n",
       "      <td>ESR켄달스퀘어리츠</td>\n",
       "      <td>365550</td>\n",
       "      <td>부동산 임대 및 공급업</td>\n",
       "      <td>NaN</td>\n",
       "      <td>NaN</td>\n",
       "      <td>NaN</td>\n",
       "      <td>NaN</td>\n",
       "    </tr>\n",
       "  </tbody>\n",
       "</table>\n",
       "</div>"
      ],
      "text/plain": [
       "          회사명    종목코드                 업종   업종2  업종PER  PER  PBR\n",
       "0        나우코스  257990        기타 화학제품 제조업   NaN    NaN  NaN  NaN\n",
       "1       에이스캠퍼  322190  자동차 차체 및 트레일러 제조업   NaN    NaN  NaN  NaN\n",
       "2    유안타제7호스팩  367460         금융 지원 서비스업  창업투자  20.78  NaN  NaN\n",
       "3         루트락  253610          기타 전문 도매업   NaN    NaN  NaN  NaN\n",
       "4  ESR켄달스퀘어리츠  365550       부동산 임대 및 공급업   NaN    NaN  NaN  NaN"
      ]
     },
     "execution_count": 6,
     "metadata": {},
     "output_type": "execute_result"
    }
   ],
   "source": [
    "# 네이버금융 데이터\n",
    "data2 = pd.read_csv('./data/네이버금융_PER,PBR.csv')\n",
    "data2.head()"
   ]
  },
  {
   "cell_type": "code",
   "execution_count": 7,
   "metadata": {
    "scrolled": true
   },
   "outputs": [
    {
     "data": {
      "text/plain": [
       "array([nan, '창업투자', '기타', '화학', '제약', '생명과학도구및서비스', '소프트웨어', 'IT서비스',\n",
       "       '반도체와반도체장비', '자동차부품', '생물공학', '전자장비와기기', '컴퓨터와주변기기', '화장품', '전기장비',\n",
       "       '손해보험', '건강관리장비와용품', '식품', '디스플레이장비및부품', '방송과엔터테인먼트', '기계', '건설',\n",
       "       '가정용품', '게임엔터테인먼트', '섬유,의류,신발,호화품', '핸드셋', '광고', '우주항공과국방',\n",
       "       '에너지장비및서비스', '건축자재', '건강관리기술', '통신장비', '교육서비스', '건강관리업체및서비스',\n",
       "       '해운사', '인터넷과카탈로그소매', '증권', '가구', '양방향미디어와서비스', '가정용기기와용품', '전기제품',\n",
       "       '식품과기본식료품소매', '비철금속', '포장재', '은행', '호텔,레스토랑,레저', '항공사', '철강',\n",
       "       '전자제품', '백화점과일반상점', '판매업체', '출판', '가스유틸리티', '석유와가스', '레저용장비와제품',\n",
       "       '부동산', '조선', '도로와철도운송', '음료', '생명보험', '종이와목재', '복합기업', '기타금융',\n",
       "       '건축제품', '상업서비스와공급품', '복합유틸리티', '항공화물운송과물류', '전문소매', '디스플레이패널',\n",
       "       '전기유틸리티', '자동차', '무선통신서비스', '카드', '문구류', '운송인프라', '독립전력생산및에너지거래',\n",
       "       '무역회사와판매업체', '다각화된통신서비스', '담배', '사무용전자제품'], dtype=object)"
      ]
     },
     "execution_count": 7,
     "metadata": {},
     "output_type": "execute_result"
    }
   ],
   "source": [
    "data2['업종2'].unique()"
   ]
  },
  {
   "cell_type": "code",
   "execution_count": 8,
   "metadata": {},
   "outputs": [
    {
     "data": {
      "text/plain": [
       "167"
      ]
     },
     "execution_count": 8,
     "metadata": {},
     "output_type": "execute_result"
    }
   ],
   "source": [
    "len(data2[data2['업종2'].isnull()])"
   ]
  },
  {
   "cell_type": "code",
   "execution_count": 9,
   "metadata": {},
   "outputs": [
    {
     "data": {
      "text/plain": [
       "1070"
      ]
     },
     "execution_count": 9,
     "metadata": {},
     "output_type": "execute_result"
    }
   ],
   "source": [
    "len(data2[data2['PER'].isnull()])"
   ]
  },
  {
   "cell_type": "markdown",
   "metadata": {},
   "source": [
    "# 2. 데이터 보완"
   ]
  },
  {
   "cell_type": "markdown",
   "metadata": {},
   "source": [
    "네이버금융 데이터의 결측치가 더 많기는 하지만, Company Guide 데이터는 2019년 12월 기준으로 최신성을 반영하지 못함\n",
    "\n",
    "따라서 **네이버금융 데이터에 Company Guide 데이터를 병합하여 결측치를 보완**해보고자 함"
   ]
  },
  {
   "cell_type": "code",
   "execution_count": 10,
   "metadata": {},
   "outputs": [],
   "source": [
    "naver_업종per = data2[data2['업종PER'].isnull()].index\n",
    "fnguide_업종per = data[data['업종PER'].isnull()].index"
   ]
  },
  {
   "cell_type": "code",
   "execution_count": 11,
   "metadata": {},
   "outputs": [
    {
     "data": {
      "text/plain": [
       "19"
      ]
     },
     "execution_count": 11,
     "metadata": {},
     "output_type": "execute_result"
    }
   ],
   "source": [
    "# 네이버금융 업종PER 결측치 (공통 결측치 제외)\n",
    "업종per_idx = list(set(naver_업종per) - set(fnguide_업종per))\n",
    "len(업종per_idx)"
   ]
  },
  {
   "cell_type": "code",
   "execution_count": 12,
   "metadata": {},
   "outputs": [],
   "source": [
    "naver_per = data2[data2['PER'].isnull()].index\n",
    "fnguide_per = data[data['PER'].isnull()].index"
   ]
  },
  {
   "cell_type": "code",
   "execution_count": 13,
   "metadata": {},
   "outputs": [
    {
     "data": {
      "text/plain": [
       "310"
      ]
     },
     "execution_count": 13,
     "metadata": {},
     "output_type": "execute_result"
    }
   ],
   "source": [
    "# 네이버금융 PER 결측치 (공통 결측치 제외)\n",
    "per_idx = list(set(naver_per) - set(fnguide_per))\n",
    "len(per_idx)"
   ]
  },
  {
   "cell_type": "code",
   "execution_count": 14,
   "metadata": {},
   "outputs": [],
   "source": [
    "naver_pbr = data2[data2['PBR'].isnull()].index\n",
    "fnguide_pbr = data[data['PBR'].isnull()].index"
   ]
  },
  {
   "cell_type": "code",
   "execution_count": 15,
   "metadata": {},
   "outputs": [
    {
     "data": {
      "text/plain": [
       "998"
      ]
     },
     "execution_count": 15,
     "metadata": {},
     "output_type": "execute_result"
    }
   ],
   "source": [
    "# 네이버금융 PBR 결측치 (공통 결측치 제외)\n",
    "pbr_idx = list(set(naver_pbr) - set(fnguide_pbr))\n",
    "len(pbr_idx)"
   ]
  },
  {
   "cell_type": "code",
   "execution_count": 16,
   "metadata": {},
   "outputs": [],
   "source": [
    "import warnings\n",
    "warnings.filterwarnings('ignore')\n",
    "\n",
    "data3 = data2.copy()\n",
    "\n",
    "# 네이버금융 데이터 결측치 수정\n",
    "for i in 업종per_idx:\n",
    "    data3['업종PER'][i] = data['업종PER'][i]\n",
    "for i in per_idx:\n",
    "    data3['PER'][i] = data['PER'][i]\n",
    "for i in pbr_idx:\n",
    "    data3['PBR'][i] = data['PBR'][i]\n",
    "    \n",
    "# 종목코드 6자리로 수정\n",
    "data3.종목코드 = data3.종목코드.map('{:06d}'.format)"
   ]
  },
  {
   "cell_type": "code",
   "execution_count": 17,
   "metadata": {},
   "outputs": [
    {
     "data": {
      "text/html": [
       "<div>\n",
       "<style scoped>\n",
       "    .dataframe tbody tr th:only-of-type {\n",
       "        vertical-align: middle;\n",
       "    }\n",
       "\n",
       "    .dataframe tbody tr th {\n",
       "        vertical-align: top;\n",
       "    }\n",
       "\n",
       "    .dataframe thead th {\n",
       "        text-align: right;\n",
       "    }\n",
       "</style>\n",
       "<table border=\"1\" class=\"dataframe\">\n",
       "  <thead>\n",
       "    <tr style=\"text-align: right;\">\n",
       "      <th></th>\n",
       "      <th>회사명</th>\n",
       "      <th>종목코드</th>\n",
       "      <th>업종</th>\n",
       "      <th>업종2</th>\n",
       "      <th>업종PER</th>\n",
       "      <th>PER</th>\n",
       "      <th>PBR</th>\n",
       "    </tr>\n",
       "  </thead>\n",
       "  <tbody>\n",
       "    <tr>\n",
       "      <th>0</th>\n",
       "      <td>나우코스</td>\n",
       "      <td>257990</td>\n",
       "      <td>기타 화학제품 제조업</td>\n",
       "      <td>NaN</td>\n",
       "      <td>NaN</td>\n",
       "      <td>29.21</td>\n",
       "      <td>6.43</td>\n",
       "    </tr>\n",
       "    <tr>\n",
       "      <th>1</th>\n",
       "      <td>에이스캠퍼</td>\n",
       "      <td>322190</td>\n",
       "      <td>자동차 차체 및 트레일러 제조업</td>\n",
       "      <td>NaN</td>\n",
       "      <td>NaN</td>\n",
       "      <td>NaN</td>\n",
       "      <td>19.07</td>\n",
       "    </tr>\n",
       "    <tr>\n",
       "      <th>2</th>\n",
       "      <td>유안타제7호스팩</td>\n",
       "      <td>367460</td>\n",
       "      <td>금융 지원 서비스업</td>\n",
       "      <td>창업투자</td>\n",
       "      <td>20.78</td>\n",
       "      <td>NaN</td>\n",
       "      <td>NaN</td>\n",
       "    </tr>\n",
       "    <tr>\n",
       "      <th>3</th>\n",
       "      <td>루트락</td>\n",
       "      <td>253610</td>\n",
       "      <td>기타 전문 도매업</td>\n",
       "      <td>NaN</td>\n",
       "      <td>NaN</td>\n",
       "      <td>NaN</td>\n",
       "      <td>NaN</td>\n",
       "    </tr>\n",
       "    <tr>\n",
       "      <th>4</th>\n",
       "      <td>ESR켄달스퀘어리츠</td>\n",
       "      <td>365550</td>\n",
       "      <td>부동산 임대 및 공급업</td>\n",
       "      <td>NaN</td>\n",
       "      <td>35.79</td>\n",
       "      <td>NaN</td>\n",
       "      <td>NaN</td>\n",
       "    </tr>\n",
       "  </tbody>\n",
       "</table>\n",
       "</div>"
      ],
      "text/plain": [
       "          회사명    종목코드                 업종   업종2  업종PER    PER    PBR\n",
       "0        나우코스  257990        기타 화학제품 제조업   NaN    NaN  29.21   6.43\n",
       "1       에이스캠퍼  322190  자동차 차체 및 트레일러 제조업   NaN    NaN    NaN  19.07\n",
       "2    유안타제7호스팩  367460         금융 지원 서비스업  창업투자  20.78    NaN    NaN\n",
       "3         루트락  253610          기타 전문 도매업   NaN    NaN    NaN    NaN\n",
       "4  ESR켄달스퀘어리츠  365550       부동산 임대 및 공급업   NaN  35.79    NaN    NaN"
      ]
     },
     "execution_count": 17,
     "metadata": {},
     "output_type": "execute_result"
    }
   ],
   "source": [
    "data3.head()"
   ]
  },
  {
   "cell_type": "code",
   "execution_count": 18,
   "metadata": {},
   "outputs": [],
   "source": [
    "data3.to_csv('./data/네이버금융_FnGuide.csv')"
   ]
  },
  {
   "cell_type": "markdown",
   "metadata": {},
   "source": [
    "# 3. EDA"
   ]
  },
  {
   "cell_type": "markdown",
   "metadata": {},
   "source": [
    "## 3.1 업종별 회사 수"
   ]
  },
  {
   "cell_type": "markdown",
   "metadata": {},
   "source": [
    "'업종2'와 '업종PER'는 네이버금융에서 스크래핑한 데이터이기 때문에, '업종PER'는 '업종2'를 기준으로 산정되어 있음\n",
    "\n",
    "따라서 '업종' 칼럼이 아닌 **'업종2' 칼럼으로 EDA를 진행함**"
   ]
  },
  {
   "cell_type": "code",
   "execution_count": 19,
   "metadata": {},
   "outputs": [],
   "source": [
    "import matplotlib.pyplot as plt\n",
    "\n",
    "# 시각화 한글 처리\n",
    "import matplotlib.pyplot as plt\n",
    "from matplotlib import font_manager, rc\n",
    "font_name = font_manager.FontProperties(fname=\"c:/Windows/Fonts/malgun.ttf\").get_name()\n",
    "rc('font',family=font_name)"
   ]
  },
  {
   "cell_type": "code",
   "execution_count": 20,
   "metadata": {},
   "outputs": [
    {
     "data": {
      "image/png": "[encoded data removed]",
      "text/plain": [
       "<Figure size 1224x1080 with 1 Axes>"
      ]
     },
     "metadata": {
      "needs_background": "light"
     },
     "output_type": "display_data"
    }
   ],
   "source": [
    "attr = data3['업종2'].value_counts().iloc[:30].index\n",
    "v1 = data3['업종2'].value_counts().iloc[:30]\n",
    "\n",
    "plt.figure(figsize=(17,15))\n",
    "plt.barh(attr, v1, tick_label=attr)\n",
    "plt.title('업종별 회사 수(개)', fontsize=20)\n",
    "plt.xlabel('회사 수(개)',fontsize=15)\n",
    "plt.yticks(fontsize=15)\n",
    "\n",
    "for i in range(len(attr)):\n",
    "    detail = '(%d개)'%v1[i]\n",
    "    plt.text(v1[i], attr[i], detail, fontsize=13)\n",
    "    \n",
    "plt.show()"
   ]
  },
  {
   "cell_type": "markdown",
   "metadata": {},
   "source": [
    "## 3.2 업종별 업종PER"
   ]
  },
  {
   "cell_type": "code",
   "execution_count": 21,
   "metadata": {},
   "outputs": [],
   "source": [
    "업종per_data = pd.DataFrame(data3['업종2'].unique()).rename(columns={0:'업종'})\n",
    "업종per_data['업종PER'] = np.nan\n",
    "\n",
    "for i in range(len(업종per_data)):\n",
    "    업종per_data['업종PER'][i] = np.array(data3[data3['업종2'] == 업종per_data['업종'][i]]['업종PER'].unique(), dtype=object)"
   ]
  },
  {
   "cell_type": "code",
   "execution_count": 22,
   "metadata": {},
   "outputs": [
    {
     "data": {
      "text/html": [
       "<div>\n",
       "<style scoped>\n",
       "    .dataframe tbody tr th:only-of-type {\n",
       "        vertical-align: middle;\n",
       "    }\n",
       "\n",
       "    .dataframe tbody tr th {\n",
       "        vertical-align: top;\n",
       "    }\n",
       "\n",
       "    .dataframe thead th {\n",
       "        text-align: right;\n",
       "    }\n",
       "</style>\n",
       "<table border=\"1\" class=\"dataframe\">\n",
       "  <thead>\n",
       "    <tr style=\"text-align: right;\">\n",
       "      <th></th>\n",
       "      <th>업종</th>\n",
       "      <th>업종PER</th>\n",
       "    </tr>\n",
       "  </thead>\n",
       "  <tbody>\n",
       "    <tr>\n",
       "      <th>0</th>\n",
       "      <td>NaN</td>\n",
       "      <td>[]</td>\n",
       "    </tr>\n",
       "    <tr>\n",
       "      <th>1</th>\n",
       "      <td>창업투자</td>\n",
       "      <td>[20.78, 34.69]</td>\n",
       "    </tr>\n",
       "    <tr>\n",
       "      <th>2</th>\n",
       "      <td>기타</td>\n",
       "      <td>[22.62]</td>\n",
       "    </tr>\n",
       "    <tr>\n",
       "      <th>3</th>\n",
       "      <td>화학</td>\n",
       "      <td>[85.75, 69.0]</td>\n",
       "    </tr>\n",
       "    <tr>\n",
       "      <th>4</th>\n",
       "      <td>제약</td>\n",
       "      <td>[99.58, 222.91]</td>\n",
       "    </tr>\n",
       "  </tbody>\n",
       "</table>\n",
       "</div>"
      ],
      "text/plain": [
       "     업종            업종PER\n",
       "0   NaN               []\n",
       "1  창업투자   [20.78, 34.69]\n",
       "2    기타          [22.62]\n",
       "3    화학    [85.75, 69.0]\n",
       "4    제약  [99.58, 222.91]"
      ]
     },
     "execution_count": 22,
     "metadata": {},
     "output_type": "execute_result"
    }
   ],
   "source": [
    "업종per_data.head()"
   ]
  },
  {
   "cell_type": "markdown",
   "metadata": {},
   "source": [
    "업종별로 업종PER가 2개 이상 존재하는 행들이 보임 (즉, 업종이 동일하더라도 업종PER가 다르게 표시되어 있음)\n",
    "\n",
    "따라서 업종PER가 동일한 회사끼리 업종을 좀 더 세분화하는 작업이 필요할지 추후 결정"
   ]
  },
  {
   "cell_type": "code",
   "execution_count": 23,
   "metadata": {},
   "outputs": [
    {
     "data": {
      "text/plain": [
       "array([   nan,  35.79,  22.77, -15.23, -29.49,   8.14])"
      ]
     },
     "execution_count": 23,
     "metadata": {},
     "output_type": "execute_result"
    }
   ],
   "source": [
    "data3[data3['업종2'].isnull()]['업종PER'].unique()"
   ]
  },
  {
   "cell_type": "markdown",
   "metadata": {},
   "source": [
    "업종명은 결측치지만 업종PER가 표시되어 있는 경우가 있으므로, 이에 맞는 업종으로 분류하는 작업이 필요할지 추후 결정"
   ]
  },
  {
   "cell_type": "markdown",
   "metadata": {},
   "source": [
    "# 4. 저평가 된 기업 찾기"
   ]
  },
  {
   "cell_type": "markdown",
   "metadata": {},
   "source": [
    "**PER이 업종PER보다 낮고, PBR이 1보다 낮은 조건의 데이터 추출**"
   ]
  },
  {
   "cell_type": "code",
   "execution_count": 24,
   "metadata": {},
   "outputs": [],
   "source": [
    "# 숫자 비교를 위해 타입 변환\n",
    "data3['종목코드'] = data3['종목코드'].astype('object')\n",
    "data3['PER'] = data3['PER'].str.replace(',','')\n",
    "data3['PER'] = data3['PER'].astype('float')\n",
    "data3['PBR'] = data3['PBR'].apply(pd.to_numeric, errors='coerce')"
   ]
  },
  {
   "cell_type": "code",
   "execution_count": 25,
   "metadata": {},
   "outputs": [
    {
     "name": "stdout",
     "output_type": "stream",
     "text": [
      "<class 'pandas.core.frame.DataFrame'>\n",
      "RangeIndex: 2411 entries, 0 to 2410\n",
      "Data columns (total 7 columns):\n",
      " #   Column  Non-Null Count  Dtype  \n",
      "---  ------  --------------  -----  \n",
      " 0   회사명     2411 non-null   object \n",
      " 1   종목코드    2411 non-null   object \n",
      " 2   업종      2411 non-null   object \n",
      " 3   업종2     2244 non-null   object \n",
      " 4   업종PER   2264 non-null   float64\n",
      " 5   PER     1651 non-null   float64\n",
      " 6   PBR     2338 non-null   float64\n",
      "dtypes: float64(3), object(4)\n",
      "memory usage: 132.0+ KB\n"
     ]
    }
   ],
   "source": [
    "data3.info()"
   ]
  },
  {
   "cell_type": "code",
   "execution_count": 26,
   "metadata": {},
   "outputs": [
    {
     "data": {
      "text/html": [
       "<div>\n",
       "<style scoped>\n",
       "    .dataframe tbody tr th:only-of-type {\n",
       "        vertical-align: middle;\n",
       "    }\n",
       "\n",
       "    .dataframe tbody tr th {\n",
       "        vertical-align: top;\n",
       "    }\n",
       "\n",
       "    .dataframe thead th {\n",
       "        text-align: right;\n",
       "    }\n",
       "</style>\n",
       "<table border=\"1\" class=\"dataframe\">\n",
       "  <thead>\n",
       "    <tr style=\"text-align: right;\">\n",
       "      <th></th>\n",
       "      <th>회사명</th>\n",
       "      <th>종목코드</th>\n",
       "      <th>업종</th>\n",
       "      <th>업종2</th>\n",
       "      <th>업종PER</th>\n",
       "      <th>PER</th>\n",
       "      <th>PBR</th>\n",
       "    </tr>\n",
       "  </thead>\n",
       "  <tbody>\n",
       "    <tr>\n",
       "      <th>0</th>\n",
       "      <td>나우코스</td>\n",
       "      <td>257990</td>\n",
       "      <td>기타 화학제품 제조업</td>\n",
       "      <td>NaN</td>\n",
       "      <td>NaN</td>\n",
       "      <td>29.21</td>\n",
       "      <td>6.43</td>\n",
       "    </tr>\n",
       "    <tr>\n",
       "      <th>1</th>\n",
       "      <td>에이스캠퍼</td>\n",
       "      <td>322190</td>\n",
       "      <td>자동차 차체 및 트레일러 제조업</td>\n",
       "      <td>NaN</td>\n",
       "      <td>NaN</td>\n",
       "      <td>NaN</td>\n",
       "      <td>19.07</td>\n",
       "    </tr>\n",
       "    <tr>\n",
       "      <th>2</th>\n",
       "      <td>유안타제7호스팩</td>\n",
       "      <td>367460</td>\n",
       "      <td>금융 지원 서비스업</td>\n",
       "      <td>창업투자</td>\n",
       "      <td>20.78</td>\n",
       "      <td>NaN</td>\n",
       "      <td>NaN</td>\n",
       "    </tr>\n",
       "    <tr>\n",
       "      <th>3</th>\n",
       "      <td>루트락</td>\n",
       "      <td>253610</td>\n",
       "      <td>기타 전문 도매업</td>\n",
       "      <td>NaN</td>\n",
       "      <td>NaN</td>\n",
       "      <td>NaN</td>\n",
       "      <td>NaN</td>\n",
       "    </tr>\n",
       "    <tr>\n",
       "      <th>4</th>\n",
       "      <td>ESR켄달스퀘어리츠</td>\n",
       "      <td>365550</td>\n",
       "      <td>부동산 임대 및 공급업</td>\n",
       "      <td>NaN</td>\n",
       "      <td>35.79</td>\n",
       "      <td>NaN</td>\n",
       "      <td>NaN</td>\n",
       "    </tr>\n",
       "  </tbody>\n",
       "</table>\n",
       "</div>"
      ],
      "text/plain": [
       "          회사명    종목코드                 업종   업종2  업종PER    PER    PBR\n",
       "0        나우코스  257990        기타 화학제품 제조업   NaN    NaN  29.21   6.43\n",
       "1       에이스캠퍼  322190  자동차 차체 및 트레일러 제조업   NaN    NaN    NaN  19.07\n",
       "2    유안타제7호스팩  367460         금융 지원 서비스업  창업투자  20.78    NaN    NaN\n",
       "3         루트락  253610          기타 전문 도매업   NaN    NaN    NaN    NaN\n",
       "4  ESR켄달스퀘어리츠  365550       부동산 임대 및 공급업   NaN  35.79    NaN    NaN"
      ]
     },
     "execution_count": 26,
     "metadata": {},
     "output_type": "execute_result"
    }
   ],
   "source": [
    "data3.head()"
   ]
  },
  {
   "cell_type": "code",
   "execution_count": 27,
   "metadata": {},
   "outputs": [
    {
     "data": {
      "text/html": [
       "<div>\n",
       "<style scoped>\n",
       "    .dataframe tbody tr th:only-of-type {\n",
       "        vertical-align: middle;\n",
       "    }\n",
       "\n",
       "    .dataframe tbody tr th {\n",
       "        vertical-align: top;\n",
       "    }\n",
       "\n",
       "    .dataframe thead th {\n",
       "        text-align: right;\n",
       "    }\n",
       "</style>\n",
       "<table border=\"1\" class=\"dataframe\">\n",
       "  <thead>\n",
       "    <tr style=\"text-align: right;\">\n",
       "      <th></th>\n",
       "      <th>회사명</th>\n",
       "      <th>종목코드</th>\n",
       "      <th>업종</th>\n",
       "      <th>업종2</th>\n",
       "      <th>업종PER</th>\n",
       "      <th>PER</th>\n",
       "      <th>PBR</th>\n",
       "    </tr>\n",
       "  </thead>\n",
       "  <tbody>\n",
       "    <tr>\n",
       "      <th>0</th>\n",
       "      <td>코리아에셋투자증권</td>\n",
       "      <td>190650</td>\n",
       "      <td>기타 금융업</td>\n",
       "      <td>증권</td>\n",
       "      <td>6.53</td>\n",
       "      <td>5.18</td>\n",
       "      <td>0.69</td>\n",
       "    </tr>\n",
       "    <tr>\n",
       "      <th>1</th>\n",
       "      <td>윙입푸드</td>\n",
       "      <td>900340</td>\n",
       "      <td>기타 금융업</td>\n",
       "      <td>식품</td>\n",
       "      <td>29.07</td>\n",
       "      <td>7.17</td>\n",
       "      <td>0.53</td>\n",
       "    </tr>\n",
       "    <tr>\n",
       "      <th>2</th>\n",
       "      <td>세아제강</td>\n",
       "      <td>306200</td>\n",
       "      <td>1차 철강 제조업</td>\n",
       "      <td>철강</td>\n",
       "      <td>41.60</td>\n",
       "      <td>9.81</td>\n",
       "      <td>0.45</td>\n",
       "    </tr>\n",
       "    <tr>\n",
       "      <th>3</th>\n",
       "      <td>한일시멘트</td>\n",
       "      <td>300720</td>\n",
       "      <td>시멘트, 석회, 플라스터 및 그 제품 제조업</td>\n",
       "      <td>건축자재</td>\n",
       "      <td>36.34</td>\n",
       "      <td>7.57</td>\n",
       "      <td>0.59</td>\n",
       "    </tr>\n",
       "    <tr>\n",
       "      <th>4</th>\n",
       "      <td>그리티</td>\n",
       "      <td>204020</td>\n",
       "      <td>봉제의복 제조업</td>\n",
       "      <td>섬유,의류,신발,호화품</td>\n",
       "      <td>33.35</td>\n",
       "      <td>27.36</td>\n",
       "      <td>0.77</td>\n",
       "    </tr>\n",
       "    <tr>\n",
       "      <th>...</th>\n",
       "      <td>...</td>\n",
       "      <td>...</td>\n",
       "      <td>...</td>\n",
       "      <td>...</td>\n",
       "      <td>...</td>\n",
       "      <td>...</td>\n",
       "      <td>...</td>\n",
       "    </tr>\n",
       "    <tr>\n",
       "      <th>362</th>\n",
       "      <td>대한제당</td>\n",
       "      <td>001790</td>\n",
       "      <td>곡물가공품, 전분 및 전분제품 제조업</td>\n",
       "      <td>식품</td>\n",
       "      <td>29.07</td>\n",
       "      <td>9.23</td>\n",
       "      <td>0.40</td>\n",
       "    </tr>\n",
       "    <tr>\n",
       "      <th>363</th>\n",
       "      <td>삼양홀딩스</td>\n",
       "      <td>000070</td>\n",
       "      <td>기타 금융업</td>\n",
       "      <td>식품</td>\n",
       "      <td>29.07</td>\n",
       "      <td>19.26</td>\n",
       "      <td>0.49</td>\n",
       "    </tr>\n",
       "    <tr>\n",
       "      <th>364</th>\n",
       "      <td>한국테크놀로지그룹</td>\n",
       "      <td>000240</td>\n",
       "      <td>기타 금융업</td>\n",
       "      <td>자동차부품</td>\n",
       "      <td>46.67</td>\n",
       "      <td>18.53</td>\n",
       "      <td>0.61</td>\n",
       "    </tr>\n",
       "    <tr>\n",
       "      <th>365</th>\n",
       "      <td>메리츠화재</td>\n",
       "      <td>000060</td>\n",
       "      <td>보험업</td>\n",
       "      <td>손해보험</td>\n",
       "      <td>6.87</td>\n",
       "      <td>4.41</td>\n",
       "      <td>0.61</td>\n",
       "    </tr>\n",
       "    <tr>\n",
       "      <th>366</th>\n",
       "      <td>경방</td>\n",
       "      <td>000050</td>\n",
       "      <td>종합 소매업</td>\n",
       "      <td>섬유,의류,신발,호화품</td>\n",
       "      <td>33.35</td>\n",
       "      <td>7.49</td>\n",
       "      <td>0.43</td>\n",
       "    </tr>\n",
       "  </tbody>\n",
       "</table>\n",
       "<p>367 rows × 7 columns</p>\n",
       "</div>"
      ],
      "text/plain": [
       "           회사명    종목코드                        업종           업종2  업종PER    PER  \\\n",
       "0    코리아에셋투자증권  190650                    기타 금융업            증권   6.53   5.18   \n",
       "1         윙입푸드  900340                    기타 금융업            식품  29.07   7.17   \n",
       "2         세아제강  306200                 1차 철강 제조업            철강  41.60   9.81   \n",
       "3        한일시멘트  300720  시멘트, 석회, 플라스터 및 그 제품 제조업          건축자재  36.34   7.57   \n",
       "4          그리티  204020                  봉제의복 제조업  섬유,의류,신발,호화품  33.35  27.36   \n",
       "..         ...     ...                       ...           ...    ...    ...   \n",
       "362       대한제당  001790      곡물가공품, 전분 및 전분제품 제조업            식품  29.07   9.23   \n",
       "363      삼양홀딩스  000070                    기타 금융업            식품  29.07  19.26   \n",
       "364  한국테크놀로지그룹  000240                    기타 금융업         자동차부품  46.67  18.53   \n",
       "365      메리츠화재  000060                       보험업          손해보험   6.87   4.41   \n",
       "366         경방  000050                    종합 소매업  섬유,의류,신발,호화품  33.35   7.49   \n",
       "\n",
       "      PBR  \n",
       "0    0.69  \n",
       "1    0.53  \n",
       "2    0.45  \n",
       "3    0.59  \n",
       "4    0.77  \n",
       "..    ...  \n",
       "362  0.40  \n",
       "363  0.49  \n",
       "364  0.61  \n",
       "365  0.61  \n",
       "366  0.43  \n",
       "\n",
       "[367 rows x 7 columns]"
      ]
     },
     "execution_count": 27,
     "metadata": {},
     "output_type": "execute_result"
    }
   ],
   "source": [
    "low_value = data3[(data3['업종PER'] > data3['PER'])&(data3['PBR'] <= 1)].reset_index(drop=True)\n",
    "low_value"
   ]
  },
  {
   "cell_type": "code",
   "execution_count": 28,
   "metadata": {},
   "outputs": [],
   "source": [
    "low_value.to_csv('./data/저평가기업목록.csv')"
   ]
  },
  {
   "cell_type": "code",
   "execution_count": null,
   "metadata": {},
   "outputs": [],
   "source": []
  }
 ],
 "metadata": {
  "kernelspec": {
   "display_name": "Python 3",
   "language": "python",
   "name": "python3"
  },
  "language_info": {
   "codemirror_mode": {
    "name": "ipython",
    "version": 3
   },
   "file_extension": ".py",
   "mimetype": "text/x-python",
   "name": "python",
   "nbconvert_exporter": "python",
   "pygments_lexer": "ipython3",
   "version": "3.8.3"
  },
  "toc": {
   "base_numbering": 1,
   "nav_menu": {},
   "number_sections": false,
   "sideBar": false,
   "skip_h1_title": false,
   "title_cell": "Table of Contents",
   "title_sidebar": "Contents",
   "toc_cell": true,
   "toc_position": {},
   "toc_section_display": true,
   "toc_window_display": false
  }
 },
 "nbformat": 4,
 "nbformat_minor": 4
}
