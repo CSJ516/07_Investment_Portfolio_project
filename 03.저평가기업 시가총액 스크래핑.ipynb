{
 "cells": [
  {
   "cell_type": "markdown",
   "metadata": {
    "toc": true
   },
   "source": [
    "<h1>Table of Contents<span class=\"tocSkip\"></span></h1>\n",
    "<div class=\"toc\"><ul class=\"toc-item\"><li><span><a href=\"#1.-저평가기업-목록-읽기\" data-toc-modified-id=\"1.-저평가기업-목록-읽기-1\">1. 저평가기업 목록 읽기</a></span></li><li><span><a href=\"#2.-종목코드별-시가총액-스크래핑\" data-toc-modified-id=\"2.-종목코드별-시가총액-스크래핑-2\">2. 종목코드별 시가총액 스크래핑</a></span></li></ul></div>"
   ]
  },
  {
   "cell_type": "markdown",
   "metadata": {},
   "source": [
    "# 1. 저평가기업 목록 읽기"
   ]
  },
  {
   "cell_type": "code",
   "execution_count": 1,
   "metadata": {},
   "outputs": [],
   "source": [
    "import numpy as np\n",
    "import pandas as pd"
   ]
  },
  {
   "cell_type": "code",
   "execution_count": 26,
   "metadata": {},
   "outputs": [
    {
     "data": {
      "text/html": [
       "<div>\n",
       "<style scoped>\n",
       "    .dataframe tbody tr th:only-of-type {\n",
       "        vertical-align: middle;\n",
       "    }\n",
       "\n",
       "    .dataframe tbody tr th {\n",
       "        vertical-align: top;\n",
       "    }\n",
       "\n",
       "    .dataframe thead th {\n",
       "        text-align: right;\n",
       "    }\n",
       "</style>\n",
       "<table border=\"1\" class=\"dataframe\">\n",
       "  <thead>\n",
       "    <tr style=\"text-align: right;\">\n",
       "      <th></th>\n",
       "      <th>회사명</th>\n",
       "      <th>종목코드</th>\n",
       "      <th>업종</th>\n",
       "      <th>업종2</th>\n",
       "      <th>업종PER</th>\n",
       "      <th>PER</th>\n",
       "      <th>PBR</th>\n",
       "    </tr>\n",
       "  </thead>\n",
       "  <tbody>\n",
       "    <tr>\n",
       "      <th>362</th>\n",
       "      <td>대한제당</td>\n",
       "      <td>1790</td>\n",
       "      <td>곡물가공품, 전분 및 전분제품 제조업</td>\n",
       "      <td>식품</td>\n",
       "      <td>29.07</td>\n",
       "      <td>9.23</td>\n",
       "      <td>0.40</td>\n",
       "    </tr>\n",
       "    <tr>\n",
       "      <th>363</th>\n",
       "      <td>삼양홀딩스</td>\n",
       "      <td>70</td>\n",
       "      <td>기타 금융업</td>\n",
       "      <td>식품</td>\n",
       "      <td>29.07</td>\n",
       "      <td>19.26</td>\n",
       "      <td>0.49</td>\n",
       "    </tr>\n",
       "    <tr>\n",
       "      <th>364</th>\n",
       "      <td>한국테크놀로지그룹</td>\n",
       "      <td>240</td>\n",
       "      <td>기타 금융업</td>\n",
       "      <td>자동차부품</td>\n",
       "      <td>46.67</td>\n",
       "      <td>18.53</td>\n",
       "      <td>0.61</td>\n",
       "    </tr>\n",
       "    <tr>\n",
       "      <th>365</th>\n",
       "      <td>메리츠화재</td>\n",
       "      <td>60</td>\n",
       "      <td>보험업</td>\n",
       "      <td>손해보험</td>\n",
       "      <td>6.87</td>\n",
       "      <td>4.41</td>\n",
       "      <td>0.61</td>\n",
       "    </tr>\n",
       "    <tr>\n",
       "      <th>366</th>\n",
       "      <td>경방</td>\n",
       "      <td>50</td>\n",
       "      <td>종합 소매업</td>\n",
       "      <td>섬유,의류,신발,호화품</td>\n",
       "      <td>33.35</td>\n",
       "      <td>7.49</td>\n",
       "      <td>0.43</td>\n",
       "    </tr>\n",
       "  </tbody>\n",
       "</table>\n",
       "</div>"
      ],
      "text/plain": [
       "           회사명  종목코드                    업종           업종2  업종PER    PER   PBR\n",
       "362       대한제당  1790  곡물가공품, 전분 및 전분제품 제조업            식품  29.07   9.23  0.40\n",
       "363      삼양홀딩스    70                기타 금융업            식품  29.07  19.26  0.49\n",
       "364  한국테크놀로지그룹   240                기타 금융업         자동차부품  46.67  18.53  0.61\n",
       "365      메리츠화재    60                   보험업          손해보험   6.87   4.41  0.61\n",
       "366         경방    50                종합 소매업  섬유,의류,신발,호화품  33.35   7.49  0.43"
      ]
     },
     "execution_count": 26,
     "metadata": {},
     "output_type": "execute_result"
    }
   ],
   "source": [
    "data = pd.read_csv('./data/저평가기업목록.csv', index_col=0)\n",
    "data.tail()"
   ]
  },
  {
   "cell_type": "markdown",
   "metadata": {},
   "source": [
    "종목코드의 앞 자리 0이 모두 사라져 여섯 자리가 아닌 행들이 있으므로, map() 함수를 사용해 이를 보정"
   ]
  },
  {
   "cell_type": "code",
   "execution_count": 27,
   "metadata": {},
   "outputs": [
    {
     "data": {
      "text/html": [
       "<div>\n",
       "<style scoped>\n",
       "    .dataframe tbody tr th:only-of-type {\n",
       "        vertical-align: middle;\n",
       "    }\n",
       "\n",
       "    .dataframe tbody tr th {\n",
       "        vertical-align: top;\n",
       "    }\n",
       "\n",
       "    .dataframe thead th {\n",
       "        text-align: right;\n",
       "    }\n",
       "</style>\n",
       "<table border=\"1\" class=\"dataframe\">\n",
       "  <thead>\n",
       "    <tr style=\"text-align: right;\">\n",
       "      <th></th>\n",
       "      <th>회사명</th>\n",
       "      <th>종목코드</th>\n",
       "      <th>업종</th>\n",
       "      <th>업종2</th>\n",
       "      <th>업종PER</th>\n",
       "      <th>PER</th>\n",
       "      <th>PBR</th>\n",
       "    </tr>\n",
       "  </thead>\n",
       "  <tbody>\n",
       "    <tr>\n",
       "      <th>362</th>\n",
       "      <td>대한제당</td>\n",
       "      <td>001790</td>\n",
       "      <td>곡물가공품, 전분 및 전분제품 제조업</td>\n",
       "      <td>식품</td>\n",
       "      <td>29.07</td>\n",
       "      <td>9.23</td>\n",
       "      <td>0.40</td>\n",
       "    </tr>\n",
       "    <tr>\n",
       "      <th>363</th>\n",
       "      <td>삼양홀딩스</td>\n",
       "      <td>000070</td>\n",
       "      <td>기타 금융업</td>\n",
       "      <td>식품</td>\n",
       "      <td>29.07</td>\n",
       "      <td>19.26</td>\n",
       "      <td>0.49</td>\n",
       "    </tr>\n",
       "    <tr>\n",
       "      <th>364</th>\n",
       "      <td>한국테크놀로지그룹</td>\n",
       "      <td>000240</td>\n",
       "      <td>기타 금융업</td>\n",
       "      <td>자동차부품</td>\n",
       "      <td>46.67</td>\n",
       "      <td>18.53</td>\n",
       "      <td>0.61</td>\n",
       "    </tr>\n",
       "    <tr>\n",
       "      <th>365</th>\n",
       "      <td>메리츠화재</td>\n",
       "      <td>000060</td>\n",
       "      <td>보험업</td>\n",
       "      <td>손해보험</td>\n",
       "      <td>6.87</td>\n",
       "      <td>4.41</td>\n",
       "      <td>0.61</td>\n",
       "    </tr>\n",
       "    <tr>\n",
       "      <th>366</th>\n",
       "      <td>경방</td>\n",
       "      <td>000050</td>\n",
       "      <td>종합 소매업</td>\n",
       "      <td>섬유,의류,신발,호화품</td>\n",
       "      <td>33.35</td>\n",
       "      <td>7.49</td>\n",
       "      <td>0.43</td>\n",
       "    </tr>\n",
       "  </tbody>\n",
       "</table>\n",
       "</div>"
      ],
      "text/plain": [
       "           회사명    종목코드                    업종           업종2  업종PER    PER   PBR\n",
       "362       대한제당  001790  곡물가공품, 전분 및 전분제품 제조업            식품  29.07   9.23  0.40\n",
       "363      삼양홀딩스  000070                기타 금융업            식품  29.07  19.26  0.49\n",
       "364  한국테크놀로지그룹  000240                기타 금융업         자동차부품  46.67  18.53  0.61\n",
       "365      메리츠화재  000060                   보험업          손해보험   6.87   4.41  0.61\n",
       "366         경방  000050                종합 소매업  섬유,의류,신발,호화품  33.35   7.49  0.43"
      ]
     },
     "execution_count": 27,
     "metadata": {},
     "output_type": "execute_result"
    }
   ],
   "source": [
    "data.종목코드 = data.종목코드.map('{:06d}'.format)\n",
    "data.tail()"
   ]
  },
  {
   "cell_type": "markdown",
   "metadata": {},
   "source": [
    "# 2. 종목코드별 시가총액 스크래핑"
   ]
  },
  {
   "cell_type": "markdown",
   "metadata": {},
   "source": [
    "- **Company Guide**(https://comp.fnguide.com/SVO2/ASP/SVD_Main.asp?pGB=1&gicode=A종목코드&cID=&MenuYn=Y&ReportGB=&NewMenuID=11&stkGb=701) 사이트에서 **시가총액(보통주, 억원) 수집**"
   ]
  },
  {
   "cell_type": "code",
   "execution_count": 30,
   "metadata": {},
   "outputs": [],
   "source": [
    "from tqdm import tqdm\n",
    "from bs4 import BeautifulSoup\n",
    "import requests\n",
    "\n",
    "import warnings\n",
    "warnings.filterwarnings('ignore')"
   ]
  },
  {
   "cell_type": "code",
   "execution_count": 32,
   "metadata": {},
   "outputs": [
    {
     "name": "stderr",
     "output_type": "stream",
     "text": [
      "367it [02:46,  2.21it/s]\n"
     ]
    }
   ],
   "source": [
    "data['시가총액'] = np.nan\n",
    "\n",
    "for i, code in tqdm(enumerate(data.종목코드)):\n",
    "    cg_url = f'https://comp.fnguide.com/SVO2/ASP/SVD_Main.asp?pGB=1&gicode=A{code}&cID=&MenuYn=Y&ReportGB=&NewMenuID=11&stkGb=701'\n",
    "    html = BeautifulSoup(requests.get(cg_url, headers={'User-agent': 'Mozilla/5.0'}).text, 'lxml')\n",
    "    \n",
    "    # 시가총액 수집\n",
    "    table = html.find_all(\"tr\")[4]\n",
    "    시가총액 = table.find(\"td\", class_=\"r\").text\n",
    "    \n",
    "    # data['시가총액'] 값 추가\n",
    "    data['시가총액'][i] = 시가총액"
   ]
  },
  {
   "cell_type": "code",
   "execution_count": 35,
   "metadata": {},
   "outputs": [
    {
     "data": {
      "text/html": [
       "<div>\n",
       "<style scoped>\n",
       "    .dataframe tbody tr th:only-of-type {\n",
       "        vertical-align: middle;\n",
       "    }\n",
       "\n",
       "    .dataframe tbody tr th {\n",
       "        vertical-align: top;\n",
       "    }\n",
       "\n",
       "    .dataframe thead th {\n",
       "        text-align: right;\n",
       "    }\n",
       "</style>\n",
       "<table border=\"1\" class=\"dataframe\">\n",
       "  <thead>\n",
       "    <tr style=\"text-align: right;\">\n",
       "      <th></th>\n",
       "      <th>회사명</th>\n",
       "      <th>종목코드</th>\n",
       "      <th>업종</th>\n",
       "      <th>업종2</th>\n",
       "      <th>업종PER</th>\n",
       "      <th>PER</th>\n",
       "      <th>PBR</th>\n",
       "      <th>시가총액(억)</th>\n",
       "    </tr>\n",
       "  </thead>\n",
       "  <tbody>\n",
       "    <tr>\n",
       "      <th>0</th>\n",
       "      <td>코리아에셋투자증권</td>\n",
       "      <td>190650</td>\n",
       "      <td>기타 금융업</td>\n",
       "      <td>증권</td>\n",
       "      <td>6.53</td>\n",
       "      <td>5.18</td>\n",
       "      <td>0.69</td>\n",
       "      <td>516</td>\n",
       "    </tr>\n",
       "    <tr>\n",
       "      <th>1</th>\n",
       "      <td>윙입푸드</td>\n",
       "      <td>900340</td>\n",
       "      <td>기타 금융업</td>\n",
       "      <td>식품</td>\n",
       "      <td>29.07</td>\n",
       "      <td>7.17</td>\n",
       "      <td>0.53</td>\n",
       "      <td>643</td>\n",
       "    </tr>\n",
       "    <tr>\n",
       "      <th>2</th>\n",
       "      <td>세아제강</td>\n",
       "      <td>306200</td>\n",
       "      <td>1차 철강 제조업</td>\n",
       "      <td>철강</td>\n",
       "      <td>41.60</td>\n",
       "      <td>9.81</td>\n",
       "      <td>0.45</td>\n",
       "      <td>2,723</td>\n",
       "    </tr>\n",
       "    <tr>\n",
       "      <th>3</th>\n",
       "      <td>한일시멘트</td>\n",
       "      <td>300720</td>\n",
       "      <td>시멘트, 석회, 플라스터 및 그 제품 제조업</td>\n",
       "      <td>건축자재</td>\n",
       "      <td>36.34</td>\n",
       "      <td>7.57</td>\n",
       "      <td>0.59</td>\n",
       "      <td>7,723</td>\n",
       "    </tr>\n",
       "    <tr>\n",
       "      <th>4</th>\n",
       "      <td>그리티</td>\n",
       "      <td>204020</td>\n",
       "      <td>봉제의복 제조업</td>\n",
       "      <td>섬유,의류,신발,호화품</td>\n",
       "      <td>33.35</td>\n",
       "      <td>27.36</td>\n",
       "      <td>0.77</td>\n",
       "      <td>595</td>\n",
       "    </tr>\n",
       "  </tbody>\n",
       "</table>\n",
       "</div>"
      ],
      "text/plain": [
       "         회사명    종목코드                        업종           업종2  업종PER    PER  \\\n",
       "0  코리아에셋투자증권  190650                    기타 금융업            증권   6.53   5.18   \n",
       "1       윙입푸드  900340                    기타 금융업            식품  29.07   7.17   \n",
       "2       세아제강  306200                 1차 철강 제조업            철강  41.60   9.81   \n",
       "3      한일시멘트  300720  시멘트, 석회, 플라스터 및 그 제품 제조업          건축자재  36.34   7.57   \n",
       "4        그리티  204020                  봉제의복 제조업  섬유,의류,신발,호화품  33.35  27.36   \n",
       "\n",
       "    PBR 시가총액(억)  \n",
       "0  0.69     516  \n",
       "1  0.53     643  \n",
       "2  0.45   2,723  \n",
       "3  0.59   7,723  \n",
       "4  0.77     595  "
      ]
     },
     "execution_count": 35,
     "metadata": {},
     "output_type": "execute_result"
    }
   ],
   "source": [
    "data.rename(columns={'시가총액': '시가총액(억)'}, inplace=True)\n",
    "data.head()"
   ]
  },
  {
   "cell_type": "code",
   "execution_count": 36,
   "metadata": {},
   "outputs": [],
   "source": [
    "data.to_csv('./data/FnGuide_시가총액.csv', index=False)"
   ]
  },
  {
   "cell_type": "code",
   "execution_count": null,
   "metadata": {},
   "outputs": [],
   "source": []
  }
 ],
 "metadata": {
  "kernelspec": {
   "display_name": "Python 3",
   "language": "python",
   "name": "python3"
  },
  "language_info": {
   "codemirror_mode": {
    "name": "ipython",
    "version": 3
   },
   "file_extension": ".py",
   "mimetype": "text/x-python",
   "name": "python",
   "nbconvert_exporter": "python",
   "pygments_lexer": "ipython3",
   "version": "3.8.3"
  },
  "toc": {
   "base_numbering": 1,
   "nav_menu": {},
   "number_sections": false,
   "sideBar": false,
   "skip_h1_title": false,
   "title_cell": "Table of Contents",
   "title_sidebar": "Contents",
   "toc_cell": true,
   "toc_position": {},
   "toc_section_display": true,
   "toc_window_display": false
  }
 },
 "nbformat": 4,
 "nbformat_minor": 4
}
