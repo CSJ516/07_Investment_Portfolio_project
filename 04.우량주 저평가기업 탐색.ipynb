{
 "cells": [
  {
   "cell_type": "markdown",
   "metadata": {
    "toc": true
   },
   "source": [
    "<h1>Table of Contents<span class=\"tocSkip\"></span></h1>\n",
    "<div class=\"toc\"><ul class=\"toc-item\"><li><span><a href=\"#1.-데이터-확인\" data-toc-modified-id=\"1.-데이터-확인-1\">1. 데이터 확인</a></span></li><li><span><a href=\"#2.-EDA\" data-toc-modified-id=\"2.-EDA-2\">2. EDA</a></span><ul class=\"toc-item\"><li><span><a href=\"#2.1-시가총액-상위-10개-기업\" data-toc-modified-id=\"2.1-시가총액-상위-10개-기업-2.1\">2.1 시가총액 상위 10개 기업</a></span></li><li><span><a href=\"#2.2-업종별-시가총액-평균\" data-toc-modified-id=\"2.2-업종별-시가총액-평균-2.2\">2.2 업종별 시가총액 평균</a></span></li><li><span><a href=\"#2.3-업종별-시가총액-최대값\" data-toc-modified-id=\"2.3-업종별-시가총액-최대값-2.3\">2.3 업종별 시가총액 최대값</a></span></li></ul></li><li><span><a href=\"#3.-저평가-된-우량주-기업-찾기\" data-toc-modified-id=\"3.-저평가-된-우량주-기업-찾기-3\">3. 저평가 된 우량주 기업 찾기</a></span></li></ul></div>"
   ]
  },
  {
   "cell_type": "markdown",
   "metadata": {},
   "source": [
    "# 1. 데이터 확인"
   ]
  },
  {
   "cell_type": "code",
   "execution_count": 1,
   "metadata": {},
   "outputs": [],
   "source": [
    "import numpy as np\n",
    "import pandas as pd"
   ]
  },
  {
   "cell_type": "code",
   "execution_count": 2,
   "metadata": {},
   "outputs": [
    {
     "data": {
      "text/html": [
       "<div>\n",
       "<style scoped>\n",
       "    .dataframe tbody tr th:only-of-type {\n",
       "        vertical-align: middle;\n",
       "    }\n",
       "\n",
       "    .dataframe tbody tr th {\n",
       "        vertical-align: top;\n",
       "    }\n",
       "\n",
       "    .dataframe thead th {\n",
       "        text-align: right;\n",
       "    }\n",
       "</style>\n",
       "<table border=\"1\" class=\"dataframe\">\n",
       "  <thead>\n",
       "    <tr style=\"text-align: right;\">\n",
       "      <th></th>\n",
       "      <th>회사명</th>\n",
       "      <th>종목코드</th>\n",
       "      <th>업종</th>\n",
       "      <th>업종2</th>\n",
       "      <th>업종PER</th>\n",
       "      <th>PER</th>\n",
       "      <th>PBR</th>\n",
       "      <th>시가총액(억)</th>\n",
       "    </tr>\n",
       "  </thead>\n",
       "  <tbody>\n",
       "    <tr>\n",
       "      <th>362</th>\n",
       "      <td>대한제당</td>\n",
       "      <td>001790</td>\n",
       "      <td>곡물가공품, 전분 및 전분제품 제조업</td>\n",
       "      <td>식품</td>\n",
       "      <td>29.07</td>\n",
       "      <td>9.23</td>\n",
       "      <td>0.40</td>\n",
       "      <td>1,848</td>\n",
       "    </tr>\n",
       "    <tr>\n",
       "      <th>363</th>\n",
       "      <td>삼양홀딩스</td>\n",
       "      <td>000070</td>\n",
       "      <td>기타 금융업</td>\n",
       "      <td>식품</td>\n",
       "      <td>29.07</td>\n",
       "      <td>19.26</td>\n",
       "      <td>0.49</td>\n",
       "      <td>7,905</td>\n",
       "    </tr>\n",
       "    <tr>\n",
       "      <th>364</th>\n",
       "      <td>한국테크놀로지그룹</td>\n",
       "      <td>000240</td>\n",
       "      <td>기타 금융업</td>\n",
       "      <td>자동차부품</td>\n",
       "      <td>46.67</td>\n",
       "      <td>18.53</td>\n",
       "      <td>0.61</td>\n",
       "      <td>20,650</td>\n",
       "    </tr>\n",
       "    <tr>\n",
       "      <th>365</th>\n",
       "      <td>메리츠화재</td>\n",
       "      <td>000060</td>\n",
       "      <td>보험업</td>\n",
       "      <td>손해보험</td>\n",
       "      <td>6.87</td>\n",
       "      <td>4.41</td>\n",
       "      <td>0.61</td>\n",
       "      <td>18,154</td>\n",
       "    </tr>\n",
       "    <tr>\n",
       "      <th>366</th>\n",
       "      <td>경방</td>\n",
       "      <td>000050</td>\n",
       "      <td>종합 소매업</td>\n",
       "      <td>섬유,의류,신발,호화품</td>\n",
       "      <td>33.35</td>\n",
       "      <td>7.49</td>\n",
       "      <td>0.43</td>\n",
       "      <td>3,386</td>\n",
       "    </tr>\n",
       "  </tbody>\n",
       "</table>\n",
       "</div>"
      ],
      "text/plain": [
       "           회사명    종목코드                    업종           업종2  업종PER    PER  \\\n",
       "362       대한제당  001790  곡물가공품, 전분 및 전분제품 제조업            식품  29.07   9.23   \n",
       "363      삼양홀딩스  000070                기타 금융업            식품  29.07  19.26   \n",
       "364  한국테크놀로지그룹  000240                기타 금융업         자동차부품  46.67  18.53   \n",
       "365      메리츠화재  000060                   보험업          손해보험   6.87   4.41   \n",
       "366         경방  000050                종합 소매업  섬유,의류,신발,호화품  33.35   7.49   \n",
       "\n",
       "      PBR 시가총액(억)  \n",
       "362  0.40   1,848  \n",
       "363  0.49   7,905  \n",
       "364  0.61  20,650  \n",
       "365  0.61  18,154  \n",
       "366  0.43   3,386  "
      ]
     },
     "execution_count": 2,
     "metadata": {},
     "output_type": "execute_result"
    }
   ],
   "source": [
    "data = pd.read_csv('./data/FnGuide_시가총액.csv')\n",
    "\n",
    "# 종목코드 6자리로 수정\n",
    "data.종목코드 = data.종목코드.map('{:06d}'.format)\n",
    "data.tail()"
   ]
  },
  {
   "cell_type": "code",
   "execution_count": 3,
   "metadata": {},
   "outputs": [],
   "source": [
    "# 숫자 비교를 위해 타입 변환\n",
    "data['시가총액(억)'] = data['시가총액(억)'].str.replace(',','')\n",
    "data['시가총액(억)'] = data['시가총액(억)'].astype(float)"
   ]
  },
  {
   "cell_type": "code",
   "execution_count": 4,
   "metadata": {
    "scrolled": true
   },
   "outputs": [
    {
     "name": "stdout",
     "output_type": "stream",
     "text": [
      "<class 'pandas.core.frame.DataFrame'>\n",
      "RangeIndex: 367 entries, 0 to 366\n",
      "Data columns (total 8 columns):\n",
      " #   Column   Non-Null Count  Dtype  \n",
      "---  ------   --------------  -----  \n",
      " 0   회사명      367 non-null    object \n",
      " 1   종목코드     367 non-null    object \n",
      " 2   업종       367 non-null    object \n",
      " 3   업종2      367 non-null    object \n",
      " 4   업종PER    367 non-null    float64\n",
      " 5   PER      367 non-null    float64\n",
      " 6   PBR      367 non-null    float64\n",
      " 7   시가총액(억)  367 non-null    float64\n",
      "dtypes: float64(4), object(4)\n",
      "memory usage: 23.1+ KB\n"
     ]
    }
   ],
   "source": [
    "data.info()"
   ]
  },
  {
   "cell_type": "markdown",
   "metadata": {},
   "source": [
    "# 2. EDA"
   ]
  },
  {
   "cell_type": "markdown",
   "metadata": {},
   "source": [
    "## 2.1 시가총액 상위 10개 기업"
   ]
  },
  {
   "cell_type": "markdown",
   "metadata": {},
   "source": [
    "PER, PBR 기준 저평가 되어 있는 기업들 중 **시가총액이 높은 상위 10개 기업 탐색**"
   ]
  },
  {
   "cell_type": "code",
   "execution_count": 5,
   "metadata": {},
   "outputs": [],
   "source": [
    "import matplotlib.pyplot as plt\n",
    "\n",
    "# 시각화 한글 처리\n",
    "import matplotlib.pyplot as plt\n",
    "from matplotlib import font_manager, rc\n",
    "font_name = font_manager.FontProperties(fname=\"c:/Windows/Fonts/malgun.ttf\").get_name()\n",
    "rc('font',family=font_name)"
   ]
  },
  {
   "cell_type": "code",
   "execution_count": 6,
   "metadata": {},
   "outputs": [
    {
     "name": "stdout",
     "output_type": "stream",
     "text": [
      "(367, 8)\n"
     ]
    },
    {
     "data": {
      "text/html": [
       "<div>\n",
       "<style scoped>\n",
       "    .dataframe tbody tr th:only-of-type {\n",
       "        vertical-align: middle;\n",
       "    }\n",
       "\n",
       "    .dataframe tbody tr th {\n",
       "        vertical-align: top;\n",
       "    }\n",
       "\n",
       "    .dataframe thead th {\n",
       "        text-align: right;\n",
       "    }\n",
       "</style>\n",
       "<table border=\"1\" class=\"dataframe\">\n",
       "  <thead>\n",
       "    <tr style=\"text-align: right;\">\n",
       "      <th></th>\n",
       "      <th>회사명</th>\n",
       "      <th>종목코드</th>\n",
       "      <th>업종</th>\n",
       "      <th>업종2</th>\n",
       "      <th>업종PER</th>\n",
       "      <th>PER</th>\n",
       "      <th>PBR</th>\n",
       "      <th>시가총액(억)</th>\n",
       "    </tr>\n",
       "  </thead>\n",
       "  <tbody>\n",
       "    <tr>\n",
       "      <th>357</th>\n",
       "      <td>한국타이어앤테크놀로지</td>\n",
       "      <td>161390</td>\n",
       "      <td>고무제품 제조업</td>\n",
       "      <td>자동차부품</td>\n",
       "      <td>46.67</td>\n",
       "      <td>23.36</td>\n",
       "      <td>0.81</td>\n",
       "      <td>60141.0</td>\n",
       "    </tr>\n",
       "    <tr>\n",
       "      <th>358</th>\n",
       "      <td>기업은행</td>\n",
       "      <td>024110</td>\n",
       "      <td>은행 및 저축기관</td>\n",
       "      <td>은행</td>\n",
       "      <td>4.87</td>\n",
       "      <td>4.33</td>\n",
       "      <td>0.28</td>\n",
       "      <td>62565.0</td>\n",
       "    </tr>\n",
       "    <tr>\n",
       "      <th>359</th>\n",
       "      <td>케이티</td>\n",
       "      <td>030200</td>\n",
       "      <td>전기 통신업</td>\n",
       "      <td>다각화된통신서비스</td>\n",
       "      <td>11.95</td>\n",
       "      <td>10.31</td>\n",
       "      <td>0.42</td>\n",
       "      <td>63189.0</td>\n",
       "    </tr>\n",
       "    <tr>\n",
       "      <th>360</th>\n",
       "      <td>하나금융지주</td>\n",
       "      <td>086790</td>\n",
       "      <td>기타 금융업</td>\n",
       "      <td>은행</td>\n",
       "      <td>4.87</td>\n",
       "      <td>4.49</td>\n",
       "      <td>0.35</td>\n",
       "      <td>110339.0</td>\n",
       "    </tr>\n",
       "    <tr>\n",
       "      <th>361</th>\n",
       "      <td>신한지주</td>\n",
       "      <td>055550</td>\n",
       "      <td>기타 금융업</td>\n",
       "      <td>은행</td>\n",
       "      <td>4.87</td>\n",
       "      <td>4.73</td>\n",
       "      <td>0.40</td>\n",
       "      <td>170220.0</td>\n",
       "    </tr>\n",
       "    <tr>\n",
       "      <th>362</th>\n",
       "      <td>LG</td>\n",
       "      <td>003550</td>\n",
       "      <td>기타 금융업</td>\n",
       "      <td>복합기업</td>\n",
       "      <td>29.11</td>\n",
       "      <td>15.55</td>\n",
       "      <td>0.94</td>\n",
       "      <td>189813.0</td>\n",
       "    </tr>\n",
       "    <tr>\n",
       "      <th>363</th>\n",
       "      <td>포스코</td>\n",
       "      <td>005490</td>\n",
       "      <td>1차 철강 제조업</td>\n",
       "      <td>철강</td>\n",
       "      <td>41.60</td>\n",
       "      <td>24.82</td>\n",
       "      <td>0.48</td>\n",
       "      <td>236276.0</td>\n",
       "    </tr>\n",
       "    <tr>\n",
       "      <th>364</th>\n",
       "      <td>삼성물산</td>\n",
       "      <td>028260</td>\n",
       "      <td>기타 전문 도매업</td>\n",
       "      <td>복합기업</td>\n",
       "      <td>29.11</td>\n",
       "      <td>21.95</td>\n",
       "      <td>0.89</td>\n",
       "      <td>244822.0</td>\n",
       "    </tr>\n",
       "    <tr>\n",
       "      <th>365</th>\n",
       "      <td>현대모비스</td>\n",
       "      <td>012330</td>\n",
       "      <td>자동차 신품 부품 제조업</td>\n",
       "      <td>자동차부품</td>\n",
       "      <td>46.67</td>\n",
       "      <td>20.22</td>\n",
       "      <td>0.94</td>\n",
       "      <td>315106.0</td>\n",
       "    </tr>\n",
       "    <tr>\n",
       "      <th>366</th>\n",
       "      <td>현대자동차</td>\n",
       "      <td>005380</td>\n",
       "      <td>자동차용 엔진 및 자동차 제조업</td>\n",
       "      <td>자동차</td>\n",
       "      <td>58.96</td>\n",
       "      <td>58.54</td>\n",
       "      <td>0.92</td>\n",
       "      <td>523487.0</td>\n",
       "    </tr>\n",
       "  </tbody>\n",
       "</table>\n",
       "</div>"
      ],
      "text/plain": [
       "             회사명    종목코드                 업종        업종2  업종PER    PER   PBR  \\\n",
       "357  한국타이어앤테크놀로지  161390           고무제품 제조업      자동차부품  46.67  23.36  0.81   \n",
       "358         기업은행  024110          은행 및 저축기관         은행   4.87   4.33  0.28   \n",
       "359          케이티  030200             전기 통신업  다각화된통신서비스  11.95  10.31  0.42   \n",
       "360       하나금융지주  086790             기타 금융업         은행   4.87   4.49  0.35   \n",
       "361         신한지주  055550             기타 금융업         은행   4.87   4.73  0.40   \n",
       "362           LG  003550             기타 금융업       복합기업  29.11  15.55  0.94   \n",
       "363          포스코  005490          1차 철강 제조업         철강  41.60  24.82  0.48   \n",
       "364         삼성물산  028260          기타 전문 도매업       복합기업  29.11  21.95  0.89   \n",
       "365        현대모비스  012330      자동차 신품 부품 제조업      자동차부품  46.67  20.22  0.94   \n",
       "366        현대자동차  005380  자동차용 엔진 및 자동차 제조업        자동차  58.96  58.54  0.92   \n",
       "\n",
       "      시가총액(억)  \n",
       "357   60141.0  \n",
       "358   62565.0  \n",
       "359   63189.0  \n",
       "360  110339.0  \n",
       "361  170220.0  \n",
       "362  189813.0  \n",
       "363  236276.0  \n",
       "364  244822.0  \n",
       "365  315106.0  \n",
       "366  523487.0  "
      ]
     },
     "execution_count": 6,
     "metadata": {},
     "output_type": "execute_result"
    }
   ],
   "source": [
    "data2 = data.sort_values(by='시가총액(억)').reset_index(drop=True)\n",
    "print(data2.shape)\n",
    "data2.tail(10)"
   ]
  },
  {
   "cell_type": "code",
   "execution_count": 7,
   "metadata": {
    "scrolled": false
   },
   "outputs": [
    {
     "data": {
      "image/png": "[encoded data removed]",
      "text/plain": [
       "<Figure size 1224x720 with 1 Axes>"
      ]
     },
     "metadata": {
      "needs_background": "light"
     },
     "output_type": "display_data"
    }
   ],
   "source": [
    "attr = data2['회사명'][357:]\n",
    "v1 = data2['시가총액(억)'][357:]\n",
    "\n",
    "plt.figure(figsize=(17,10))\n",
    "plt.barh(attr, v1, tick_label=attr)\n",
    "plt.title('상위 10개 기업 시가총액', fontsize=20)\n",
    "plt.xlabel('시가총액(억 원)', fontsize=15)\n",
    "plt.yticks(fontsize=15)\n",
    "\n",
    "for i in data2[357:].index:\n",
    "    detail = '%d억'%v1[i]\n",
    "    plt.text(v1[i], attr[i], detail, fontsize=13)\n",
    "\n",
    "plt.show()"
   ]
  },
  {
   "cell_type": "code",
   "execution_count": 8,
   "metadata": {},
   "outputs": [
    {
     "data": {
      "text/plain": [
       "array(['자동차부품', '은행', '다각화된통신서비스', '복합기업', '철강', '자동차'], dtype=object)"
      ]
     },
     "execution_count": 8,
     "metadata": {},
     "output_type": "execute_result"
    }
   ],
   "source": [
    "data2['업종2'][357:].unique()"
   ]
  },
  {
   "cell_type": "markdown",
   "metadata": {},
   "source": [
    "## 2.2 업종별 시가총액 평균"
   ]
  },
  {
   "cell_type": "code",
   "execution_count": 9,
   "metadata": {
    "scrolled": true
   },
   "outputs": [
    {
     "name": "stdout",
     "output_type": "stream",
     "text": [
      "48\n"
     ]
    },
    {
     "data": {
      "text/plain": [
       "업종2\n",
       "항공화물운송과물류          358.000000\n",
       "출판                 568.000000\n",
       "가정용품               730.666667\n",
       "전자제품               754.000000\n",
       "화장품                769.000000\n",
       "소프트웨어              862.000000\n",
       "광고                 936.000000\n",
       "디스플레이장비및부품        1107.000000\n",
       "도로와철도운송           1132.000000\n",
       "전자장비와기기           1156.000000\n",
       "건강관리장비와용품         1216.666667\n",
       "전기제품              1265.800000\n",
       "상업서비스와공급품         1308.000000\n",
       "종이와목재             1733.285714\n",
       "음료                1764.600000\n",
       "게임엔터테인먼트          1806.333333\n",
       "포장재               1868.111111\n",
       "기타금융              2045.000000\n",
       "비철금속              2065.727273\n",
       "복합유틸리티            2203.000000\n",
       "IT서비스             2590.142857\n",
       "섬유,의류,신발,호화품      2730.000000\n",
       "제약                2932.363636\n",
       "화학                3278.400000\n",
       "가스유틸리티            3414.600000\n",
       "건설                3470.000000\n",
       "부동산               3491.500000\n",
       "식품과기본식료품소매        3578.000000\n",
       "건축자재              3625.900000\n",
       "가구                3813.000000\n",
       "식품                4126.066667\n",
       "반도체와반도체장비         4322.400000\n",
       "무역회사와판매업체         6435.000000\n",
       "인터넷과카탈로그소매        6549.000000\n",
       "증권                7510.916667\n",
       "가정용기기와용품          8357.000000\n",
       "자동차부품             9408.425926\n",
       "우주항공과국방          11428.000000\n",
       "철강               11865.608696\n",
       "해운사              12108.000000\n",
       "생명보험             13079.000000\n",
       "손해보험             17622.000000\n",
       "카드               37480.000000\n",
       "무선통신서비스          54576.000000\n",
       "다각화된통신서비스        63189.000000\n",
       "은행               64251.500000\n",
       "복합기업             98210.000000\n",
       "자동차             523487.000000\n",
       "Name: 시가총액(억), dtype: float64"
      ]
     },
     "execution_count": 9,
     "metadata": {},
     "output_type": "execute_result"
    }
   ],
   "source": [
    "market_mean = data2.groupby('업종2')['시가총액(억)'].mean().sort_values(ascending=True)\n",
    "print(len(market_mean))\n",
    "market_mean"
   ]
  },
  {
   "cell_type": "code",
   "execution_count": 10,
   "metadata": {},
   "outputs": [
    {
     "data": {
      "image/png": "[encoded data removed]",
      "text/plain": [
       "<Figure size 1224x720 with 1 Axes>"
      ]
     },
     "metadata": {
      "needs_background": "light"
     },
     "output_type": "display_data"
    }
   ],
   "source": [
    "attr = market_mean[38:].index\n",
    "v1 = market_mean[38:]\n",
    "\n",
    "plt.figure(figsize=(17,10))\n",
    "plt.barh(attr, v1, tick_label=attr)\n",
    "plt.title('상위 10개 업종 시가총액 평균', fontsize=20)\n",
    "plt.xlabel('시가총액(억 원)', fontsize=15)\n",
    "plt.yticks(fontsize=15)\n",
    "\n",
    "for i in range(len(v1)):\n",
    "    detail = '%d억'%v1[i]\n",
    "    plt.text(v1[i], attr[i], detail, fontsize=13)\n",
    "\n",
    "plt.show()"
   ]
  },
  {
   "cell_type": "markdown",
   "metadata": {},
   "source": [
    "## 2.3 업종별 시가총액 최대값"
   ]
  },
  {
   "cell_type": "code",
   "execution_count": 11,
   "metadata": {
    "scrolled": true
   },
   "outputs": [
    {
     "name": "stdout",
     "output_type": "stream",
     "text": [
      "48\n"
     ]
    },
    {
     "data": {
      "text/plain": [
       "업종2\n",
       "항공화물운송과물류          358.0\n",
       "출판                 568.0\n",
       "광고                 936.0\n",
       "가정용품               955.0\n",
       "화장품               1115.0\n",
       "소프트웨어             1130.0\n",
       "전자제품              1556.0\n",
       "디스플레이장비및부품        1767.0\n",
       "건강관리장비와용품         1891.0\n",
       "도로와철도운송           1896.0\n",
       "복합유틸리티            2203.0\n",
       "전기제품              2330.0\n",
       "기타금융              2382.0\n",
       "게임엔터테인먼트          2691.0\n",
       "전자장비와기기           2918.0\n",
       "상업서비스와공급품         3139.0\n",
       "종이와목재             3306.0\n",
       "음료                3585.0\n",
       "포장재               4111.0\n",
       "가구                4436.0\n",
       "부동산               4872.0\n",
       "제약                6894.0\n",
       "건축자재              7723.0\n",
       "가정용기기와용품          8357.0\n",
       "비철금속              8365.0\n",
       "식품과기본식료품소매        8637.0\n",
       "가스유틸리티            9230.0\n",
       "반도체와반도체장비         9654.0\n",
       "인터넷과카탈로그소매        9792.0\n",
       "무역회사와판매업체        10601.0\n",
       "IT서비스            11822.0\n",
       "건설               13588.0\n",
       "화학               14919.0\n",
       "섬유,의류,신발,호화품     16262.0\n",
       "식품               17548.0\n",
       "우주항공과국방          21923.0\n",
       "해운사              25846.0\n",
       "생명보험             26056.0\n",
       "손해보험             27577.0\n",
       "증권               33066.0\n",
       "카드               37480.0\n",
       "무선통신서비스          54576.0\n",
       "다각화된통신서비스        63189.0\n",
       "은행              170220.0\n",
       "철강              236276.0\n",
       "복합기업            244822.0\n",
       "자동차부품           315106.0\n",
       "자동차             523487.0\n",
       "Name: 시가총액(억), dtype: float64"
      ]
     },
     "execution_count": 11,
     "metadata": {},
     "output_type": "execute_result"
    }
   ],
   "source": [
    "market_max = data2.groupby('업종2')['시가총액(억)'].max().sort_values(ascending=True)\n",
    "print(len(market_max))\n",
    "market_max"
   ]
  },
  {
   "cell_type": "code",
   "execution_count": 12,
   "metadata": {},
   "outputs": [
    {
     "data": {
      "image/png": "[encoded data removed]",
      "text/plain": [
       "<Figure size 1224x720 with 1 Axes>"
      ]
     },
     "metadata": {
      "needs_background": "light"
     },
     "output_type": "display_data"
    }
   ],
   "source": [
    "attr = market_max[38:].index\n",
    "v1 = market_max[38:]\n",
    "\n",
    "plt.figure(figsize=(17,10))\n",
    "plt.barh(attr, v1, tick_label=attr)\n",
    "plt.title('상위 10개 업종 시가총액 최대값', fontsize=20)\n",
    "plt.xlabel('시가총액(억 원)', fontsize=15)\n",
    "plt.yticks(fontsize=15)\n",
    "\n",
    "for i in range(len(v1)):\n",
    "    detail = '%d억'%v1[i]\n",
    "    plt.text(v1[i], attr[i], detail, fontsize=13)\n",
    "\n",
    "plt.show()"
   ]
  },
  {
   "cell_type": "code",
   "execution_count": 13,
   "metadata": {
    "scrolled": true
   },
   "outputs": [
    {
     "data": {
      "text/plain": [
       "array(['다우기술', '에이스침대', 'SK가스', '쿠쿠홀딩스', '태양', '레이언스', '대림산업', '한일시멘트',\n",
       "       '게임빌', '지투알', '대덕', '케이티', 'AJ네트웍스', '이라이콤', 'LG유플러스', 'LG상사',\n",
       "       '솔브레인홀딩스', '삼성물산', 'KG ETS', '한국자산신탁', '풍산', '아이마켓코리아', '한화생명',\n",
       "       '영원무역', '텔코웨어', 'DB손해보험', '농심', '현대그린푸드', '한화에어로스페이스', '신한지주',\n",
       "       '하이트진로홀딩스', '현대홈쇼핑', '현대자동차', '현대모비스', '삼영전자공업', '모다이노칩', '휴맥스',\n",
       "       '동아쏘시오홀딩스', '무림P&P', 'NH투자증권', '포스코', '아시아경제', '삼성카드', '아세아제지',\n",
       "       '삼일', '팬오션', '컬러레이', '코오롱인더'], dtype=object)"
      ]
     },
     "execution_count": 13,
     "metadata": {},
     "output_type": "execute_result"
    }
   ],
   "source": [
    "# 업종별 시가총액 1위 기업\n",
    "data2.loc[data2.groupby('업종2')['시가총액(억)'].idxmax()]['회사명'].values"
   ]
  },
  {
   "cell_type": "markdown",
   "metadata": {},
   "source": [
    "- **시가총액** : 현대자동차(자동차) > 현대모비스(자동차부품) > 삼성물산(복합기업) > 포스코(철강) > LG(복합기업) > 신한지주(은행) > 하나금융지주(은행) > 케이티(다각화된통신서비스) > 기업은행(은행) > 한국타이어앤테크놀로지(자동차부품)\n",
    "\n",
    "\n",
    "- **업종별 시가총액 평균** : 자동차 > 복합기업 > 은행 > 다각화된통신서비스 > 무선통신서비스 > 카드 > 손해보험 > 생명보험 > 해운사 > 철강\n",
    "\n",
    "\n",
    "- **업종별 시가총액 최대값**: 자동차 > 자동차부품 > 복합기업 > 철강 > 은행 > 다각화된통신서비스 > 무선통신서비스 > 카드 > 증권 > 손해보험"
   ]
  },
  {
   "cell_type": "markdown",
   "metadata": {},
   "source": [
    "시가총액뿐만 아니라 업종까지 고려하여 포트폴리오를 구성할 필요가 있음\n",
    "\n",
    "시가총액 상위 10% 기업들을 대상으로 하되, 업종별 1위 기업을 찾는 것이 좋을지 업종별 per가 가장 낮은 기업을 찾는 것이 좋을지 추후 결정\n",
    "\n",
    "    업종별 시가총액 1위 기업 - 해당 업종에 호재가 있을 경우 주가가 가장 먼저 오를 것으로 예상\n",
    "     vs\n",
    "    업종별 per가 가장 낮은 기업 - 추가 상승 여력이 많을 것으로 예상"
   ]
  },
  {
   "cell_type": "markdown",
   "metadata": {},
   "source": [
    "# 3. 저평가 된 우량주 기업 찾기"
   ]
  },
  {
   "cell_type": "code",
   "execution_count": 14,
   "metadata": {},
   "outputs": [],
   "source": [
    "# 시가총액 상위 10%\n",
    "data3 = data.sort_values(by='시가총액(억)', ascending=False).reset_index(drop=True)[:35]"
   ]
  },
  {
   "cell_type": "code",
   "execution_count": 15,
   "metadata": {},
   "outputs": [
    {
     "data": {
      "text/html": [
       "<div>\n",
       "<style scoped>\n",
       "    .dataframe tbody tr th:only-of-type {\n",
       "        vertical-align: middle;\n",
       "    }\n",
       "\n",
       "    .dataframe tbody tr th {\n",
       "        vertical-align: top;\n",
       "    }\n",
       "\n",
       "    .dataframe thead th {\n",
       "        text-align: right;\n",
       "    }\n",
       "</style>\n",
       "<table border=\"1\" class=\"dataframe\">\n",
       "  <thead>\n",
       "    <tr style=\"text-align: right;\">\n",
       "      <th></th>\n",
       "      <th>회사명</th>\n",
       "      <th>종목코드</th>\n",
       "      <th>업종</th>\n",
       "      <th>업종2</th>\n",
       "      <th>업종PER</th>\n",
       "      <th>PER</th>\n",
       "      <th>PBR</th>\n",
       "      <th>시가총액(억)</th>\n",
       "    </tr>\n",
       "  </thead>\n",
       "  <tbody>\n",
       "    <tr>\n",
       "      <th>0</th>\n",
       "      <td>현대자동차</td>\n",
       "      <td>005380</td>\n",
       "      <td>자동차용 엔진 및 자동차 제조업</td>\n",
       "      <td>자동차</td>\n",
       "      <td>58.96</td>\n",
       "      <td>58.54</td>\n",
       "      <td>0.92</td>\n",
       "      <td>523487.0</td>\n",
       "    </tr>\n",
       "    <tr>\n",
       "      <th>1</th>\n",
       "      <td>현대모비스</td>\n",
       "      <td>012330</td>\n",
       "      <td>자동차 신품 부품 제조업</td>\n",
       "      <td>자동차부품</td>\n",
       "      <td>46.67</td>\n",
       "      <td>20.22</td>\n",
       "      <td>0.94</td>\n",
       "      <td>315106.0</td>\n",
       "    </tr>\n",
       "    <tr>\n",
       "      <th>2</th>\n",
       "      <td>삼성물산</td>\n",
       "      <td>028260</td>\n",
       "      <td>기타 전문 도매업</td>\n",
       "      <td>복합기업</td>\n",
       "      <td>29.11</td>\n",
       "      <td>21.95</td>\n",
       "      <td>0.89</td>\n",
       "      <td>244822.0</td>\n",
       "    </tr>\n",
       "    <tr>\n",
       "      <th>3</th>\n",
       "      <td>포스코</td>\n",
       "      <td>005490</td>\n",
       "      <td>1차 철강 제조업</td>\n",
       "      <td>철강</td>\n",
       "      <td>41.60</td>\n",
       "      <td>24.82</td>\n",
       "      <td>0.48</td>\n",
       "      <td>236276.0</td>\n",
       "    </tr>\n",
       "    <tr>\n",
       "      <th>4</th>\n",
       "      <td>신한지주</td>\n",
       "      <td>055550</td>\n",
       "      <td>기타 금융업</td>\n",
       "      <td>은행</td>\n",
       "      <td>4.87</td>\n",
       "      <td>4.73</td>\n",
       "      <td>0.40</td>\n",
       "      <td>170220.0</td>\n",
       "    </tr>\n",
       "    <tr>\n",
       "      <th>5</th>\n",
       "      <td>케이티</td>\n",
       "      <td>030200</td>\n",
       "      <td>전기 통신업</td>\n",
       "      <td>다각화된통신서비스</td>\n",
       "      <td>11.95</td>\n",
       "      <td>10.31</td>\n",
       "      <td>0.42</td>\n",
       "      <td>63189.0</td>\n",
       "    </tr>\n",
       "    <tr>\n",
       "      <th>6</th>\n",
       "      <td>LG유플러스</td>\n",
       "      <td>032640</td>\n",
       "      <td>전기 통신업</td>\n",
       "      <td>무선통신서비스</td>\n",
       "      <td>13.56</td>\n",
       "      <td>6.89</td>\n",
       "      <td>0.72</td>\n",
       "      <td>54576.0</td>\n",
       "    </tr>\n",
       "    <tr>\n",
       "      <th>7</th>\n",
       "      <td>삼성카드</td>\n",
       "      <td>029780</td>\n",
       "      <td>기타 금융업</td>\n",
       "      <td>카드</td>\n",
       "      <td>9.10</td>\n",
       "      <td>9.09</td>\n",
       "      <td>0.49</td>\n",
       "      <td>37480.0</td>\n",
       "    </tr>\n",
       "    <tr>\n",
       "      <th>8</th>\n",
       "      <td>NH투자증권</td>\n",
       "      <td>005940</td>\n",
       "      <td>금융 지원 서비스업</td>\n",
       "      <td>증권</td>\n",
       "      <td>6.53</td>\n",
       "      <td>5.71</td>\n",
       "      <td>0.61</td>\n",
       "      <td>33066.0</td>\n",
       "    </tr>\n",
       "    <tr>\n",
       "      <th>9</th>\n",
       "      <td>DB손해보험</td>\n",
       "      <td>005830</td>\n",
       "      <td>보험업</td>\n",
       "      <td>손해보험</td>\n",
       "      <td>6.87</td>\n",
       "      <td>4.96</td>\n",
       "      <td>0.35</td>\n",
       "      <td>27577.0</td>\n",
       "    </tr>\n",
       "  </tbody>\n",
       "</table>\n",
       "</div>"
      ],
      "text/plain": [
       "      회사명    종목코드                 업종        업종2  업종PER    PER   PBR   시가총액(억)\n",
       "0   현대자동차  005380  자동차용 엔진 및 자동차 제조업        자동차  58.96  58.54  0.92  523487.0\n",
       "1   현대모비스  012330      자동차 신품 부품 제조업      자동차부품  46.67  20.22  0.94  315106.0\n",
       "2    삼성물산  028260          기타 전문 도매업       복합기업  29.11  21.95  0.89  244822.0\n",
       "3     포스코  005490          1차 철강 제조업         철강  41.60  24.82  0.48  236276.0\n",
       "4    신한지주  055550             기타 금융업         은행   4.87   4.73  0.40  170220.0\n",
       "5     케이티  030200             전기 통신업  다각화된통신서비스  11.95  10.31  0.42   63189.0\n",
       "6  LG유플러스  032640             전기 통신업    무선통신서비스  13.56   6.89  0.72   54576.0\n",
       "7    삼성카드  029780             기타 금융업         카드   9.10   9.09  0.49   37480.0\n",
       "8  NH투자증권  005940         금융 지원 서비스업         증권   6.53   5.71  0.61   33066.0\n",
       "9  DB손해보험  005830                보험업       손해보험   6.87   4.96  0.35   27577.0"
      ]
     },
     "execution_count": 15,
     "metadata": {},
     "output_type": "execute_result"
    }
   ],
   "source": [
    "# 업종별 시가총액 1위 기업\n",
    "data3_1 = data3.loc[data3.groupby('업종2')['시가총액(억)'].idxmax()].sort_values(by='시가총액(억)', ascending=False).reset_index(drop=True)\n",
    "data3_1.head(10)"
   ]
  },
  {
   "cell_type": "code",
   "execution_count": 16,
   "metadata": {},
   "outputs": [
    {
     "data": {
      "text/html": [
       "<div>\n",
       "<style scoped>\n",
       "    .dataframe tbody tr th:only-of-type {\n",
       "        vertical-align: middle;\n",
       "    }\n",
       "\n",
       "    .dataframe tbody tr th {\n",
       "        vertical-align: top;\n",
       "    }\n",
       "\n",
       "    .dataframe thead th {\n",
       "        text-align: right;\n",
       "    }\n",
       "</style>\n",
       "<table border=\"1\" class=\"dataframe\">\n",
       "  <thead>\n",
       "    <tr style=\"text-align: right;\">\n",
       "      <th></th>\n",
       "      <th>회사명</th>\n",
       "      <th>종목코드</th>\n",
       "      <th>업종</th>\n",
       "      <th>업종2</th>\n",
       "      <th>업종PER</th>\n",
       "      <th>PER</th>\n",
       "      <th>PBR</th>\n",
       "      <th>시가총액(억)</th>\n",
       "    </tr>\n",
       "  </thead>\n",
       "  <tbody>\n",
       "    <tr>\n",
       "      <th>0</th>\n",
       "      <td>현대자동차</td>\n",
       "      <td>005380</td>\n",
       "      <td>자동차용 엔진 및 자동차 제조업</td>\n",
       "      <td>자동차</td>\n",
       "      <td>58.96</td>\n",
       "      <td>58.54</td>\n",
       "      <td>0.92</td>\n",
       "      <td>523487.0</td>\n",
       "    </tr>\n",
       "    <tr>\n",
       "      <th>1</th>\n",
       "      <td>포스코</td>\n",
       "      <td>005490</td>\n",
       "      <td>1차 철강 제조업</td>\n",
       "      <td>철강</td>\n",
       "      <td>41.60</td>\n",
       "      <td>24.82</td>\n",
       "      <td>0.48</td>\n",
       "      <td>236276.0</td>\n",
       "    </tr>\n",
       "    <tr>\n",
       "      <th>2</th>\n",
       "      <td>LG</td>\n",
       "      <td>003550</td>\n",
       "      <td>기타 금융업</td>\n",
       "      <td>복합기업</td>\n",
       "      <td>29.11</td>\n",
       "      <td>15.55</td>\n",
       "      <td>0.94</td>\n",
       "      <td>189813.0</td>\n",
       "    </tr>\n",
       "    <tr>\n",
       "      <th>3</th>\n",
       "      <td>케이티</td>\n",
       "      <td>030200</td>\n",
       "      <td>전기 통신업</td>\n",
       "      <td>다각화된통신서비스</td>\n",
       "      <td>11.95</td>\n",
       "      <td>10.31</td>\n",
       "      <td>0.42</td>\n",
       "      <td>63189.0</td>\n",
       "    </tr>\n",
       "    <tr>\n",
       "      <th>4</th>\n",
       "      <td>LG유플러스</td>\n",
       "      <td>032640</td>\n",
       "      <td>전기 통신업</td>\n",
       "      <td>무선통신서비스</td>\n",
       "      <td>13.56</td>\n",
       "      <td>6.89</td>\n",
       "      <td>0.72</td>\n",
       "      <td>54576.0</td>\n",
       "    </tr>\n",
       "    <tr>\n",
       "      <th>5</th>\n",
       "      <td>삼성카드</td>\n",
       "      <td>029780</td>\n",
       "      <td>기타 금융업</td>\n",
       "      <td>카드</td>\n",
       "      <td>9.10</td>\n",
       "      <td>9.09</td>\n",
       "      <td>0.49</td>\n",
       "      <td>37480.0</td>\n",
       "    </tr>\n",
       "    <tr>\n",
       "      <th>6</th>\n",
       "      <td>한화생명</td>\n",
       "      <td>088350</td>\n",
       "      <td>보험업</td>\n",
       "      <td>생명보험</td>\n",
       "      <td>12.49</td>\n",
       "      <td>11.41</td>\n",
       "      <td>0.16</td>\n",
       "      <td>26056.0</td>\n",
       "    </tr>\n",
       "    <tr>\n",
       "      <th>7</th>\n",
       "      <td>팬오션</td>\n",
       "      <td>028670</td>\n",
       "      <td>해상 운송업</td>\n",
       "      <td>해운사</td>\n",
       "      <td>116.29</td>\n",
       "      <td>19.11</td>\n",
       "      <td>0.85</td>\n",
       "      <td>25846.0</td>\n",
       "    </tr>\n",
       "    <tr>\n",
       "      <th>8</th>\n",
       "      <td>메리츠증권</td>\n",
       "      <td>008560</td>\n",
       "      <td>금융 지원 서비스업</td>\n",
       "      <td>증권</td>\n",
       "      <td>6.53</td>\n",
       "      <td>4.75</td>\n",
       "      <td>0.61</td>\n",
       "      <td>25653.0</td>\n",
       "    </tr>\n",
       "    <tr>\n",
       "      <th>9</th>\n",
       "      <td>한화에어로스페이스</td>\n",
       "      <td>012450</td>\n",
       "      <td>항공기,우주선 및 부품 제조업</td>\n",
       "      <td>우주항공과국방</td>\n",
       "      <td>50.80</td>\n",
       "      <td>30.36</td>\n",
       "      <td>0.87</td>\n",
       "      <td>21923.0</td>\n",
       "    </tr>\n",
       "  </tbody>\n",
       "</table>\n",
       "</div>"
      ],
      "text/plain": [
       "         회사명    종목코드                 업종        업종2   업종PER    PER   PBR  \\\n",
       "0      현대자동차  005380  자동차용 엔진 및 자동차 제조업        자동차   58.96  58.54  0.92   \n",
       "1        포스코  005490          1차 철강 제조업         철강   41.60  24.82  0.48   \n",
       "2         LG  003550             기타 금융업       복합기업   29.11  15.55  0.94   \n",
       "3        케이티  030200             전기 통신업  다각화된통신서비스   11.95  10.31  0.42   \n",
       "4     LG유플러스  032640             전기 통신업    무선통신서비스   13.56   6.89  0.72   \n",
       "5       삼성카드  029780             기타 금융업         카드    9.10   9.09  0.49   \n",
       "6       한화생명  088350                보험업       생명보험   12.49  11.41  0.16   \n",
       "7        팬오션  028670             해상 운송업        해운사  116.29  19.11  0.85   \n",
       "8      메리츠증권  008560         금융 지원 서비스업         증권    6.53   4.75  0.61   \n",
       "9  한화에어로스페이스  012450   항공기,우주선 및 부품 제조업    우주항공과국방   50.80  30.36  0.87   \n",
       "\n",
       "    시가총액(억)  \n",
       "0  523487.0  \n",
       "1  236276.0  \n",
       "2  189813.0  \n",
       "3   63189.0  \n",
       "4   54576.0  \n",
       "5   37480.0  \n",
       "6   26056.0  \n",
       "7   25846.0  \n",
       "8   25653.0  \n",
       "9   21923.0  "
      ]
     },
     "execution_count": 16,
     "metadata": {},
     "output_type": "execute_result"
    }
   ],
   "source": [
    "# 업종별 per가 가장 낮은 기업\n",
    "data3_2 = data3.loc[data3.groupby('업종2')['PER'].idxmin()].sort_values(by='시가총액(억)', ascending=False).reset_index(drop=True)\n",
    "data3_2.head(10)"
   ]
  },
  {
   "cell_type": "code",
   "execution_count": 17,
   "metadata": {},
   "outputs": [],
   "source": [
    "data3_1.to_csv('./data/우량주저평가기업_시가총액.csv', index=False)\n",
    "data3_2.to_csv('./data/우량주저평가기업_PER.csv', index=False)"
   ]
  },
  {
   "cell_type": "code",
   "execution_count": null,
   "metadata": {},
   "outputs": [],
   "source": []
  }
 ],
 "metadata": {
  "kernelspec": {
   "display_name": "Python 3",
   "language": "python",
   "name": "python3"
  },
  "language_info": {
   "codemirror_mode": {
    "name": "ipython",
    "version": 3
   },
   "file_extension": ".py",
   "mimetype": "text/x-python",
   "name": "python",
   "nbconvert_exporter": "python",
   "pygments_lexer": "ipython3",
   "version": "3.8.3"
  },
  "toc": {
   "base_numbering": 1,
   "nav_menu": {},
   "number_sections": false,
   "sideBar": false,
   "skip_h1_title": false,
   "title_cell": "Table of Contents",
   "title_sidebar": "Contents",
   "toc_cell": true,
   "toc_position": {},
   "toc_section_display": true,
   "toc_window_display": false
  }
 },
 "nbformat": 4,
 "nbformat_minor": 4
}
